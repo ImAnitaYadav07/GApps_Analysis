{
 "cells": [
  {
   "cell_type": "code",
   "execution_count": 1,
   "id": "9c532313",
   "metadata": {
    "execution": {
     "iopub.execute_input": "2023-10-06T11:26:11.408410Z",
     "iopub.status.busy": "2023-10-06T11:26:11.408060Z",
     "iopub.status.idle": "2023-10-06T11:26:13.291887Z",
     "shell.execute_reply": "2023-10-06T11:26:13.290227Z"
    },
    "papermill": {
     "duration": 1.903571,
     "end_time": "2023-10-06T11:26:13.294214",
     "exception": false,
     "start_time": "2023-10-06T11:26:11.390643",
     "status": "completed"
    },
    "tags": []
   },
   "outputs": [],
   "source": [
    "# Importing the Libraries\n",
    "\n",
    "import pandas as pd\n",
    "import numpy as np\n",
    "import seaborn as sns\n",
    "import matplotlib.pyplot as plt\n",
    "\n",
    "import os "
   ]
  },
  {
   "cell_type": "code",
   "execution_count": 2,
   "id": "bbf03789",
   "metadata": {
    "execution": {
     "iopub.execute_input": "2023-10-06T11:26:13.328820Z",
     "iopub.status.busy": "2023-10-06T11:26:13.328226Z",
     "iopub.status.idle": "2023-10-06T11:26:13.334914Z",
     "shell.execute_reply": "2023-10-06T11:26:13.333896Z"
    },
    "papermill": {
     "duration": 0.024782,
     "end_time": "2023-10-06T11:26:13.336592",
     "exception": false,
     "start_time": "2023-10-06T11:26:13.311810",
     "status": "completed"
    },
    "tags": []
   },
   "outputs": [
    {
     "data": {
      "text/plain": [
       "'/kaggle/working'"
      ]
     },
     "execution_count": 2,
     "metadata": {},
     "output_type": "execute_result"
    }
   ],
   "source": [
    "os.getcwd()"
   ]
  },
  {
   "cell_type": "code",
   "execution_count": 3,
   "id": "a6181da1",
   "metadata": {
    "execution": {
     "iopub.execute_input": "2023-10-06T11:26:13.369915Z",
     "iopub.status.busy": "2023-10-06T11:26:13.369619Z",
     "iopub.status.idle": "2023-10-06T11:26:13.476997Z",
     "shell.execute_reply": "2023-10-06T11:26:13.475451Z"
    },
    "papermill": {
     "duration": 0.126121,
     "end_time": "2023-10-06T11:26:13.478735",
     "exception": false,
     "start_time": "2023-10-06T11:26:13.352614",
     "status": "completed"
    },
    "tags": []
   },
   "outputs": [
    {
     "data": {
      "text/html": [
       "<div>\n",
       "<style scoped>\n",
       "    .dataframe tbody tr th:only-of-type {\n",
       "        vertical-align: middle;\n",
       "    }\n",
       "\n",
       "    .dataframe tbody tr th {\n",
       "        vertical-align: top;\n",
       "    }\n",
       "\n",
       "    .dataframe thead th {\n",
       "        text-align: right;\n",
       "    }\n",
       "</style>\n",
       "<table border=\"1\" class=\"dataframe\">\n",
       "  <thead>\n",
       "    <tr style=\"text-align: right;\">\n",
       "      <th></th>\n",
       "      <th>Rating</th>\n",
       "      <th>App</th>\n",
       "      <th>Category</th>\n",
       "      <th>Reviews</th>\n",
       "      <th>Size</th>\n",
       "      <th>Installs</th>\n",
       "      <th>Type</th>\n",
       "      <th>Price</th>\n",
       "      <th>Content Rating</th>\n",
       "      <th>Genres</th>\n",
       "      <th>Last Updated</th>\n",
       "      <th>Current Ver</th>\n",
       "      <th>Android Ver</th>\n",
       "    </tr>\n",
       "  </thead>\n",
       "  <tbody>\n",
       "    <tr>\n",
       "      <th>0</th>\n",
       "      <td>4.1</td>\n",
       "      <td>Photo Editor &amp; Candy Camera &amp; Grid &amp; ScrapBook</td>\n",
       "      <td>ART_AND_DESIGN</td>\n",
       "      <td>159</td>\n",
       "      <td>19M</td>\n",
       "      <td>10,000+</td>\n",
       "      <td>Free</td>\n",
       "      <td>0</td>\n",
       "      <td>Everyone</td>\n",
       "      <td>Art &amp; Design</td>\n",
       "      <td>07-Jan-18</td>\n",
       "      <td>1.0.0</td>\n",
       "      <td>4.0.3 and up</td>\n",
       "    </tr>\n",
       "    <tr>\n",
       "      <th>1</th>\n",
       "      <td>3.9</td>\n",
       "      <td>Coloring book moana</td>\n",
       "      <td>ART_AND_DESIGN</td>\n",
       "      <td>967</td>\n",
       "      <td>14M</td>\n",
       "      <td>500,000+</td>\n",
       "      <td>Free</td>\n",
       "      <td>0</td>\n",
       "      <td>Everyone</td>\n",
       "      <td>Art &amp; Design;Pretend Play</td>\n",
       "      <td>15-Jan-18</td>\n",
       "      <td>2.0.0</td>\n",
       "      <td>4.0.3 and up</td>\n",
       "    </tr>\n",
       "    <tr>\n",
       "      <th>2</th>\n",
       "      <td>4.7</td>\n",
       "      <td>U Launcher Lite – FREE Live Cool Themes, Hide ...</td>\n",
       "      <td>ART_AND_DESIGN</td>\n",
       "      <td>87510</td>\n",
       "      <td>8.7M</td>\n",
       "      <td>5,000,000+</td>\n",
       "      <td>Free</td>\n",
       "      <td>0</td>\n",
       "      <td>Everyone</td>\n",
       "      <td>Art &amp; Design</td>\n",
       "      <td>01-Aug-18</td>\n",
       "      <td>1.2.4</td>\n",
       "      <td>4.0.3 and up</td>\n",
       "    </tr>\n",
       "    <tr>\n",
       "      <th>3</th>\n",
       "      <td>4.5</td>\n",
       "      <td>Sketch - Draw &amp; Paint</td>\n",
       "      <td>ART_AND_DESIGN</td>\n",
       "      <td>215644</td>\n",
       "      <td>25M</td>\n",
       "      <td>50,000,000+</td>\n",
       "      <td>Free</td>\n",
       "      <td>0</td>\n",
       "      <td>Teen</td>\n",
       "      <td>Art &amp; Design</td>\n",
       "      <td>08-Jun-18</td>\n",
       "      <td>Varies with device</td>\n",
       "      <td>4.2 and up</td>\n",
       "    </tr>\n",
       "    <tr>\n",
       "      <th>4</th>\n",
       "      <td>4.3</td>\n",
       "      <td>Pixel Draw - Number Art Coloring Book</td>\n",
       "      <td>ART_AND_DESIGN</td>\n",
       "      <td>967</td>\n",
       "      <td>2.8M</td>\n",
       "      <td>100,000+</td>\n",
       "      <td>Free</td>\n",
       "      <td>0</td>\n",
       "      <td>Everyone</td>\n",
       "      <td>Art &amp; Design;Creativity</td>\n",
       "      <td>20-Jun-18</td>\n",
       "      <td>1.1</td>\n",
       "      <td>4.4 and up</td>\n",
       "    </tr>\n",
       "    <tr>\n",
       "      <th>...</th>\n",
       "      <td>...</td>\n",
       "      <td>...</td>\n",
       "      <td>...</td>\n",
       "      <td>...</td>\n",
       "      <td>...</td>\n",
       "      <td>...</td>\n",
       "      <td>...</td>\n",
       "      <td>...</td>\n",
       "      <td>...</td>\n",
       "      <td>...</td>\n",
       "      <td>...</td>\n",
       "      <td>...</td>\n",
       "      <td>...</td>\n",
       "    </tr>\n",
       "    <tr>\n",
       "      <th>10835</th>\n",
       "      <td>4.5</td>\n",
       "      <td>Sya9a Maroc - FR</td>\n",
       "      <td>FAMILY</td>\n",
       "      <td>38</td>\n",
       "      <td>53M</td>\n",
       "      <td>5,000+</td>\n",
       "      <td>Free</td>\n",
       "      <td>0</td>\n",
       "      <td>Everyone</td>\n",
       "      <td>Education</td>\n",
       "      <td>25-Jul-17</td>\n",
       "      <td>1.48</td>\n",
       "      <td>4.1 and up</td>\n",
       "    </tr>\n",
       "    <tr>\n",
       "      <th>10836</th>\n",
       "      <td>5.0</td>\n",
       "      <td>Fr. Mike Schmitz Audio Teachings</td>\n",
       "      <td>FAMILY</td>\n",
       "      <td>4</td>\n",
       "      <td>3.6M</td>\n",
       "      <td>100+</td>\n",
       "      <td>Free</td>\n",
       "      <td>0</td>\n",
       "      <td>Everyone</td>\n",
       "      <td>Education</td>\n",
       "      <td>06-Jul-18</td>\n",
       "      <td>1</td>\n",
       "      <td>4.1 and up</td>\n",
       "    </tr>\n",
       "    <tr>\n",
       "      <th>10837</th>\n",
       "      <td>NaN</td>\n",
       "      <td>Parkinson Exercices FR</td>\n",
       "      <td>MEDICAL</td>\n",
       "      <td>3</td>\n",
       "      <td>9.5M</td>\n",
       "      <td>1,000+</td>\n",
       "      <td>Free</td>\n",
       "      <td>0</td>\n",
       "      <td>Everyone</td>\n",
       "      <td>Medical</td>\n",
       "      <td>20-Jan-17</td>\n",
       "      <td>1</td>\n",
       "      <td>2.2 and up</td>\n",
       "    </tr>\n",
       "    <tr>\n",
       "      <th>10838</th>\n",
       "      <td>4.5</td>\n",
       "      <td>The SCP Foundation DB fr nn5n</td>\n",
       "      <td>BOOKS_AND_REFERENCE</td>\n",
       "      <td>114</td>\n",
       "      <td>Varies with device</td>\n",
       "      <td>1,000+</td>\n",
       "      <td>Free</td>\n",
       "      <td>0</td>\n",
       "      <td>Mature 17+</td>\n",
       "      <td>Books &amp; Reference</td>\n",
       "      <td>19-Jan-15</td>\n",
       "      <td>Varies with device</td>\n",
       "      <td>Varies with device</td>\n",
       "    </tr>\n",
       "    <tr>\n",
       "      <th>10839</th>\n",
       "      <td>4.5</td>\n",
       "      <td>iHoroscope - 2018 Daily Horoscope &amp; Astrology</td>\n",
       "      <td>LIFESTYLE</td>\n",
       "      <td>398307</td>\n",
       "      <td>19M</td>\n",
       "      <td>10,000,000+</td>\n",
       "      <td>Free</td>\n",
       "      <td>0</td>\n",
       "      <td>Everyone</td>\n",
       "      <td>Lifestyle</td>\n",
       "      <td>25-Jul-18</td>\n",
       "      <td>Varies with device</td>\n",
       "      <td>Varies with device</td>\n",
       "    </tr>\n",
       "  </tbody>\n",
       "</table>\n",
       "<p>10840 rows × 13 columns</p>\n",
       "</div>"
      ],
      "text/plain": [
       "       Rating                                                App  \\\n",
       "0         4.1     Photo Editor & Candy Camera & Grid & ScrapBook   \n",
       "1         3.9                                Coloring book moana   \n",
       "2         4.7  U Launcher Lite – FREE Live Cool Themes, Hide ...   \n",
       "3         4.5                              Sketch - Draw & Paint   \n",
       "4         4.3              Pixel Draw - Number Art Coloring Book   \n",
       "...       ...                                                ...   \n",
       "10835     4.5                                   Sya9a Maroc - FR   \n",
       "10836     5.0                   Fr. Mike Schmitz Audio Teachings   \n",
       "10837     NaN                             Parkinson Exercices FR   \n",
       "10838     4.5                      The SCP Foundation DB fr nn5n   \n",
       "10839     4.5      iHoroscope - 2018 Daily Horoscope & Astrology   \n",
       "\n",
       "                  Category  Reviews                Size     Installs  Type  \\\n",
       "0           ART_AND_DESIGN      159                 19M      10,000+  Free   \n",
       "1           ART_AND_DESIGN      967                 14M     500,000+  Free   \n",
       "2           ART_AND_DESIGN    87510                8.7M   5,000,000+  Free   \n",
       "3           ART_AND_DESIGN   215644                 25M  50,000,000+  Free   \n",
       "4           ART_AND_DESIGN      967                2.8M     100,000+  Free   \n",
       "...                    ...      ...                 ...          ...   ...   \n",
       "10835               FAMILY       38                 53M       5,000+  Free   \n",
       "10836               FAMILY        4                3.6M         100+  Free   \n",
       "10837              MEDICAL        3                9.5M       1,000+  Free   \n",
       "10838  BOOKS_AND_REFERENCE      114  Varies with device       1,000+  Free   \n",
       "10839            LIFESTYLE   398307                 19M  10,000,000+  Free   \n",
       "\n",
       "      Price Content Rating                     Genres Last Updated  \\\n",
       "0         0       Everyone               Art & Design    07-Jan-18   \n",
       "1         0       Everyone  Art & Design;Pretend Play    15-Jan-18   \n",
       "2         0       Everyone               Art & Design    01-Aug-18   \n",
       "3         0           Teen               Art & Design    08-Jun-18   \n",
       "4         0       Everyone    Art & Design;Creativity    20-Jun-18   \n",
       "...     ...            ...                        ...          ...   \n",
       "10835     0       Everyone                  Education    25-Jul-17   \n",
       "10836     0       Everyone                  Education    06-Jul-18   \n",
       "10837     0       Everyone                    Medical    20-Jan-17   \n",
       "10838     0     Mature 17+          Books & Reference    19-Jan-15   \n",
       "10839     0       Everyone                  Lifestyle    25-Jul-18   \n",
       "\n",
       "              Current Ver         Android Ver  \n",
       "0                   1.0.0        4.0.3 and up  \n",
       "1                   2.0.0        4.0.3 and up  \n",
       "2                   1.2.4        4.0.3 and up  \n",
       "3      Varies with device          4.2 and up  \n",
       "4                     1.1          4.4 and up  \n",
       "...                   ...                 ...  \n",
       "10835                1.48          4.1 and up  \n",
       "10836                   1          4.1 and up  \n",
       "10837                   1          2.2 and up  \n",
       "10838  Varies with device  Varies with device  \n",
       "10839  Varies with device  Varies with device  \n",
       "\n",
       "[10840 rows x 13 columns]"
      ]
     },
     "execution_count": 3,
     "metadata": {},
     "output_type": "execute_result"
    }
   ],
   "source": [
    "# Accessing the data and making the copy \n",
    "data = pd.read_csv('/kaggle/input/playstore-analysis/googleplaystore.csv')\n",
    "play_data = data.copy()\n",
    "play_data"
   ]
  },
  {
   "cell_type": "code",
   "execution_count": 4,
   "id": "90ec8059",
   "metadata": {
    "execution": {
     "iopub.execute_input": "2023-10-06T11:26:13.569304Z",
     "iopub.status.busy": "2023-10-06T11:26:13.568973Z",
     "iopub.status.idle": "2023-10-06T11:26:13.575526Z",
     "shell.execute_reply": "2023-10-06T11:26:13.574114Z"
    },
    "papermill": {
     "duration": 0.025904,
     "end_time": "2023-10-06T11:26:13.577772",
     "exception": false,
     "start_time": "2023-10-06T11:26:13.551868",
     "status": "completed"
    },
    "tags": []
   },
   "outputs": [
    {
     "data": {
      "text/plain": [
       "(10840, 13)"
      ]
     },
     "execution_count": 4,
     "metadata": {},
     "output_type": "execute_result"
    }
   ],
   "source": [
    "# Checking the dataset size\n",
    "play_data.shape"
   ]
  },
  {
   "cell_type": "code",
   "execution_count": 5,
   "id": "1f9c69fe",
   "metadata": {
    "execution": {
     "iopub.execute_input": "2023-10-06T11:26:13.612219Z",
     "iopub.status.busy": "2023-10-06T11:26:13.611886Z",
     "iopub.status.idle": "2023-10-06T11:26:13.644168Z",
     "shell.execute_reply": "2023-10-06T11:26:13.642793Z"
    },
    "papermill": {
     "duration": 0.051951,
     "end_time": "2023-10-06T11:26:13.646366",
     "exception": false,
     "start_time": "2023-10-06T11:26:13.594415",
     "status": "completed"
    },
    "tags": []
   },
   "outputs": [
    {
     "name": "stdout",
     "output_type": "stream",
     "text": [
      "<class 'pandas.core.frame.DataFrame'>\n",
      "RangeIndex: 10840 entries, 0 to 10839\n",
      "Data columns (total 13 columns):\n",
      " #   Column          Non-Null Count  Dtype  \n",
      "---  ------          --------------  -----  \n",
      " 0   Rating          9366 non-null   float64\n",
      " 1   App             10840 non-null  object \n",
      " 2   Category        10840 non-null  object \n",
      " 3   Reviews         10840 non-null  int64  \n",
      " 4   Size            10840 non-null  object \n",
      " 5   Installs        10840 non-null  object \n",
      " 6   Type            10839 non-null  object \n",
      " 7   Price           10840 non-null  object \n",
      " 8   Content Rating  10840 non-null  object \n",
      " 9   Genres          10840 non-null  object \n",
      " 10  Last Updated    10840 non-null  object \n",
      " 11  Current Ver     10832 non-null  object \n",
      " 12  Android Ver     10838 non-null  object \n",
      "dtypes: float64(1), int64(1), object(11)\n",
      "memory usage: 1.1+ MB\n"
     ]
    }
   ],
   "source": [
    "# Checking the type of data\n",
    "play_data.info()"
   ]
  },
  {
   "cell_type": "code",
   "execution_count": 6,
   "id": "6be1ac86",
   "metadata": {
    "execution": {
     "iopub.execute_input": "2023-10-06T11:26:13.680048Z",
     "iopub.status.busy": "2023-10-06T11:26:13.678994Z",
     "iopub.status.idle": "2023-10-06T11:26:13.693491Z",
     "shell.execute_reply": "2023-10-06T11:26:13.692861Z"
    },
    "papermill": {
     "duration": 0.03347,
     "end_time": "2023-10-06T11:26:13.695608",
     "exception": false,
     "start_time": "2023-10-06T11:26:13.662138",
     "status": "completed"
    },
    "tags": []
   },
   "outputs": [
    {
     "data": {
      "text/html": [
       "<div>\n",
       "<style scoped>\n",
       "    .dataframe tbody tr th:only-of-type {\n",
       "        vertical-align: middle;\n",
       "    }\n",
       "\n",
       "    .dataframe tbody tr th {\n",
       "        vertical-align: top;\n",
       "    }\n",
       "\n",
       "    .dataframe thead th {\n",
       "        text-align: right;\n",
       "    }\n",
       "</style>\n",
       "<table border=\"1\" class=\"dataframe\">\n",
       "  <thead>\n",
       "    <tr style=\"text-align: right;\">\n",
       "      <th></th>\n",
       "      <th>Rating</th>\n",
       "      <th>Reviews</th>\n",
       "    </tr>\n",
       "  </thead>\n",
       "  <tbody>\n",
       "    <tr>\n",
       "      <th>count</th>\n",
       "      <td>9366.000000</td>\n",
       "      <td>1.084000e+04</td>\n",
       "    </tr>\n",
       "    <tr>\n",
       "      <th>mean</th>\n",
       "      <td>4.191757</td>\n",
       "      <td>4.441529e+05</td>\n",
       "    </tr>\n",
       "    <tr>\n",
       "      <th>std</th>\n",
       "      <td>0.515219</td>\n",
       "      <td>2.927761e+06</td>\n",
       "    </tr>\n",
       "    <tr>\n",
       "      <th>min</th>\n",
       "      <td>1.000000</td>\n",
       "      <td>0.000000e+00</td>\n",
       "    </tr>\n",
       "    <tr>\n",
       "      <th>25%</th>\n",
       "      <td>4.000000</td>\n",
       "      <td>3.800000e+01</td>\n",
       "    </tr>\n",
       "    <tr>\n",
       "      <th>50%</th>\n",
       "      <td>4.300000</td>\n",
       "      <td>2.094000e+03</td>\n",
       "    </tr>\n",
       "    <tr>\n",
       "      <th>75%</th>\n",
       "      <td>4.500000</td>\n",
       "      <td>5.477550e+04</td>\n",
       "    </tr>\n",
       "    <tr>\n",
       "      <th>max</th>\n",
       "      <td>5.000000</td>\n",
       "      <td>7.815831e+07</td>\n",
       "    </tr>\n",
       "  </tbody>\n",
       "</table>\n",
       "</div>"
      ],
      "text/plain": [
       "            Rating       Reviews\n",
       "count  9366.000000  1.084000e+04\n",
       "mean      4.191757  4.441529e+05\n",
       "std       0.515219  2.927761e+06\n",
       "min       1.000000  0.000000e+00\n",
       "25%       4.000000  3.800000e+01\n",
       "50%       4.300000  2.094000e+03\n",
       "75%       4.500000  5.477550e+04\n",
       "max       5.000000  7.815831e+07"
      ]
     },
     "execution_count": 6,
     "metadata": {},
     "output_type": "execute_result"
    }
   ],
   "source": [
    "# Overall review of data values\n",
    "play_data.describe()"
   ]
  },
  {
   "cell_type": "code",
   "execution_count": 7,
   "id": "e2af0c76",
   "metadata": {
    "execution": {
     "iopub.execute_input": "2023-10-06T11:26:13.729500Z",
     "iopub.status.busy": "2023-10-06T11:26:13.729164Z",
     "iopub.status.idle": "2023-10-06T11:26:13.748746Z",
     "shell.execute_reply": "2023-10-06T11:26:13.747002Z"
    },
    "papermill": {
     "duration": 0.038695,
     "end_time": "2023-10-06T11:26:13.750661",
     "exception": false,
     "start_time": "2023-10-06T11:26:13.711966",
     "status": "completed"
    },
    "tags": []
   },
   "outputs": [
    {
     "data": {
      "text/html": [
       "<div>\n",
       "<style scoped>\n",
       "    .dataframe tbody tr th:only-of-type {\n",
       "        vertical-align: middle;\n",
       "    }\n",
       "\n",
       "    .dataframe tbody tr th {\n",
       "        vertical-align: top;\n",
       "    }\n",
       "\n",
       "    .dataframe thead th {\n",
       "        text-align: right;\n",
       "    }\n",
       "</style>\n",
       "<table border=\"1\" class=\"dataframe\">\n",
       "  <thead>\n",
       "    <tr style=\"text-align: right;\">\n",
       "      <th></th>\n",
       "      <th>Rating</th>\n",
       "      <th>App_Name</th>\n",
       "      <th>Category</th>\n",
       "      <th>Reviews</th>\n",
       "      <th>Size</th>\n",
       "      <th>Installs</th>\n",
       "      <th>Type</th>\n",
       "      <th>Price</th>\n",
       "      <th>Content_Rating</th>\n",
       "      <th>Genres</th>\n",
       "      <th>Last_Updated</th>\n",
       "      <th>Current_Ver</th>\n",
       "      <th>Android_Ver</th>\n",
       "    </tr>\n",
       "  </thead>\n",
       "  <tbody>\n",
       "    <tr>\n",
       "      <th>0</th>\n",
       "      <td>4.1</td>\n",
       "      <td>Photo Editor &amp; Candy Camera &amp; Grid &amp; ScrapBook</td>\n",
       "      <td>ART_AND_DESIGN</td>\n",
       "      <td>159</td>\n",
       "      <td>19M</td>\n",
       "      <td>10,000+</td>\n",
       "      <td>Free</td>\n",
       "      <td>0</td>\n",
       "      <td>Everyone</td>\n",
       "      <td>Art &amp; Design</td>\n",
       "      <td>07-Jan-18</td>\n",
       "      <td>1.0.0</td>\n",
       "      <td>4.0.3 and up</td>\n",
       "    </tr>\n",
       "    <tr>\n",
       "      <th>1</th>\n",
       "      <td>3.9</td>\n",
       "      <td>Coloring book moana</td>\n",
       "      <td>ART_AND_DESIGN</td>\n",
       "      <td>967</td>\n",
       "      <td>14M</td>\n",
       "      <td>500,000+</td>\n",
       "      <td>Free</td>\n",
       "      <td>0</td>\n",
       "      <td>Everyone</td>\n",
       "      <td>Art &amp; Design;Pretend Play</td>\n",
       "      <td>15-Jan-18</td>\n",
       "      <td>2.0.0</td>\n",
       "      <td>4.0.3 and up</td>\n",
       "    </tr>\n",
       "    <tr>\n",
       "      <th>2</th>\n",
       "      <td>4.7</td>\n",
       "      <td>U Launcher Lite – FREE Live Cool Themes, Hide ...</td>\n",
       "      <td>ART_AND_DESIGN</td>\n",
       "      <td>87510</td>\n",
       "      <td>8.7M</td>\n",
       "      <td>5,000,000+</td>\n",
       "      <td>Free</td>\n",
       "      <td>0</td>\n",
       "      <td>Everyone</td>\n",
       "      <td>Art &amp; Design</td>\n",
       "      <td>01-Aug-18</td>\n",
       "      <td>1.2.4</td>\n",
       "      <td>4.0.3 and up</td>\n",
       "    </tr>\n",
       "    <tr>\n",
       "      <th>3</th>\n",
       "      <td>4.5</td>\n",
       "      <td>Sketch - Draw &amp; Paint</td>\n",
       "      <td>ART_AND_DESIGN</td>\n",
       "      <td>215644</td>\n",
       "      <td>25M</td>\n",
       "      <td>50,000,000+</td>\n",
       "      <td>Free</td>\n",
       "      <td>0</td>\n",
       "      <td>Teen</td>\n",
       "      <td>Art &amp; Design</td>\n",
       "      <td>08-Jun-18</td>\n",
       "      <td>Varies with device</td>\n",
       "      <td>4.2 and up</td>\n",
       "    </tr>\n",
       "    <tr>\n",
       "      <th>4</th>\n",
       "      <td>4.3</td>\n",
       "      <td>Pixel Draw - Number Art Coloring Book</td>\n",
       "      <td>ART_AND_DESIGN</td>\n",
       "      <td>967</td>\n",
       "      <td>2.8M</td>\n",
       "      <td>100,000+</td>\n",
       "      <td>Free</td>\n",
       "      <td>0</td>\n",
       "      <td>Everyone</td>\n",
       "      <td>Art &amp; Design;Creativity</td>\n",
       "      <td>20-Jun-18</td>\n",
       "      <td>1.1</td>\n",
       "      <td>4.4 and up</td>\n",
       "    </tr>\n",
       "    <tr>\n",
       "      <th>...</th>\n",
       "      <td>...</td>\n",
       "      <td>...</td>\n",
       "      <td>...</td>\n",
       "      <td>...</td>\n",
       "      <td>...</td>\n",
       "      <td>...</td>\n",
       "      <td>...</td>\n",
       "      <td>...</td>\n",
       "      <td>...</td>\n",
       "      <td>...</td>\n",
       "      <td>...</td>\n",
       "      <td>...</td>\n",
       "      <td>...</td>\n",
       "    </tr>\n",
       "    <tr>\n",
       "      <th>10835</th>\n",
       "      <td>4.5</td>\n",
       "      <td>Sya9a Maroc - FR</td>\n",
       "      <td>FAMILY</td>\n",
       "      <td>38</td>\n",
       "      <td>53M</td>\n",
       "      <td>5,000+</td>\n",
       "      <td>Free</td>\n",
       "      <td>0</td>\n",
       "      <td>Everyone</td>\n",
       "      <td>Education</td>\n",
       "      <td>25-Jul-17</td>\n",
       "      <td>1.48</td>\n",
       "      <td>4.1 and up</td>\n",
       "    </tr>\n",
       "    <tr>\n",
       "      <th>10836</th>\n",
       "      <td>5.0</td>\n",
       "      <td>Fr. Mike Schmitz Audio Teachings</td>\n",
       "      <td>FAMILY</td>\n",
       "      <td>4</td>\n",
       "      <td>3.6M</td>\n",
       "      <td>100+</td>\n",
       "      <td>Free</td>\n",
       "      <td>0</td>\n",
       "      <td>Everyone</td>\n",
       "      <td>Education</td>\n",
       "      <td>06-Jul-18</td>\n",
       "      <td>1</td>\n",
       "      <td>4.1 and up</td>\n",
       "    </tr>\n",
       "    <tr>\n",
       "      <th>10837</th>\n",
       "      <td>NaN</td>\n",
       "      <td>Parkinson Exercices FR</td>\n",
       "      <td>MEDICAL</td>\n",
       "      <td>3</td>\n",
       "      <td>9.5M</td>\n",
       "      <td>1,000+</td>\n",
       "      <td>Free</td>\n",
       "      <td>0</td>\n",
       "      <td>Everyone</td>\n",
       "      <td>Medical</td>\n",
       "      <td>20-Jan-17</td>\n",
       "      <td>1</td>\n",
       "      <td>2.2 and up</td>\n",
       "    </tr>\n",
       "    <tr>\n",
       "      <th>10838</th>\n",
       "      <td>4.5</td>\n",
       "      <td>The SCP Foundation DB fr nn5n</td>\n",
       "      <td>BOOKS_AND_REFERENCE</td>\n",
       "      <td>114</td>\n",
       "      <td>Varies with device</td>\n",
       "      <td>1,000+</td>\n",
       "      <td>Free</td>\n",
       "      <td>0</td>\n",
       "      <td>Mature 17+</td>\n",
       "      <td>Books &amp; Reference</td>\n",
       "      <td>19-Jan-15</td>\n",
       "      <td>Varies with device</td>\n",
       "      <td>Varies with device</td>\n",
       "    </tr>\n",
       "    <tr>\n",
       "      <th>10839</th>\n",
       "      <td>4.5</td>\n",
       "      <td>iHoroscope - 2018 Daily Horoscope &amp; Astrology</td>\n",
       "      <td>LIFESTYLE</td>\n",
       "      <td>398307</td>\n",
       "      <td>19M</td>\n",
       "      <td>10,000,000+</td>\n",
       "      <td>Free</td>\n",
       "      <td>0</td>\n",
       "      <td>Everyone</td>\n",
       "      <td>Lifestyle</td>\n",
       "      <td>25-Jul-18</td>\n",
       "      <td>Varies with device</td>\n",
       "      <td>Varies with device</td>\n",
       "    </tr>\n",
       "  </tbody>\n",
       "</table>\n",
       "<p>10840 rows × 13 columns</p>\n",
       "</div>"
      ],
      "text/plain": [
       "       Rating                                           App_Name  \\\n",
       "0         4.1     Photo Editor & Candy Camera & Grid & ScrapBook   \n",
       "1         3.9                                Coloring book moana   \n",
       "2         4.7  U Launcher Lite – FREE Live Cool Themes, Hide ...   \n",
       "3         4.5                              Sketch - Draw & Paint   \n",
       "4         4.3              Pixel Draw - Number Art Coloring Book   \n",
       "...       ...                                                ...   \n",
       "10835     4.5                                   Sya9a Maroc - FR   \n",
       "10836     5.0                   Fr. Mike Schmitz Audio Teachings   \n",
       "10837     NaN                             Parkinson Exercices FR   \n",
       "10838     4.5                      The SCP Foundation DB fr nn5n   \n",
       "10839     4.5      iHoroscope - 2018 Daily Horoscope & Astrology   \n",
       "\n",
       "                  Category  Reviews                Size     Installs  Type  \\\n",
       "0           ART_AND_DESIGN      159                 19M      10,000+  Free   \n",
       "1           ART_AND_DESIGN      967                 14M     500,000+  Free   \n",
       "2           ART_AND_DESIGN    87510                8.7M   5,000,000+  Free   \n",
       "3           ART_AND_DESIGN   215644                 25M  50,000,000+  Free   \n",
       "4           ART_AND_DESIGN      967                2.8M     100,000+  Free   \n",
       "...                    ...      ...                 ...          ...   ...   \n",
       "10835               FAMILY       38                 53M       5,000+  Free   \n",
       "10836               FAMILY        4                3.6M         100+  Free   \n",
       "10837              MEDICAL        3                9.5M       1,000+  Free   \n",
       "10838  BOOKS_AND_REFERENCE      114  Varies with device       1,000+  Free   \n",
       "10839            LIFESTYLE   398307                 19M  10,000,000+  Free   \n",
       "\n",
       "      Price Content_Rating                     Genres Last_Updated  \\\n",
       "0         0       Everyone               Art & Design    07-Jan-18   \n",
       "1         0       Everyone  Art & Design;Pretend Play    15-Jan-18   \n",
       "2         0       Everyone               Art & Design    01-Aug-18   \n",
       "3         0           Teen               Art & Design    08-Jun-18   \n",
       "4         0       Everyone    Art & Design;Creativity    20-Jun-18   \n",
       "...     ...            ...                        ...          ...   \n",
       "10835     0       Everyone                  Education    25-Jul-17   \n",
       "10836     0       Everyone                  Education    06-Jul-18   \n",
       "10837     0       Everyone                    Medical    20-Jan-17   \n",
       "10838     0     Mature 17+          Books & Reference    19-Jan-15   \n",
       "10839     0       Everyone                  Lifestyle    25-Jul-18   \n",
       "\n",
       "              Current_Ver         Android_Ver  \n",
       "0                   1.0.0        4.0.3 and up  \n",
       "1                   2.0.0        4.0.3 and up  \n",
       "2                   1.2.4        4.0.3 and up  \n",
       "3      Varies with device          4.2 and up  \n",
       "4                     1.1          4.4 and up  \n",
       "...                   ...                 ...  \n",
       "10835                1.48          4.1 and up  \n",
       "10836                   1          4.1 and up  \n",
       "10837                   1          2.2 and up  \n",
       "10838  Varies with device  Varies with device  \n",
       "10839  Varies with device  Varies with device  \n",
       "\n",
       "[10840 rows x 13 columns]"
      ]
     },
     "execution_count": 7,
     "metadata": {},
     "output_type": "execute_result"
    }
   ],
   "source": [
    "# Renameing the columns name\n",
    "play_data = play_data.rename(columns = {'App': 'App_Name',\n",
    "            'Content Rating': 'Content_Rating',\n",
    "              'Last Updated': 'Last_Updated',\n",
    "             'Current Ver': 'Current_Ver',\n",
    "             'Android Ver': 'Android_Ver'\n",
    "              })\n",
    "play_data"
   ]
  },
  {
   "cell_type": "markdown",
   "id": "df0cab50",
   "metadata": {
    "papermill": {
     "duration": 0.016211,
     "end_time": "2023-10-06T11:26:13.785228",
     "exception": false,
     "start_time": "2023-10-06T11:26:13.769017",
     "status": "completed"
    },
    "tags": []
   },
   "source": [
    "## Data Preprocessing "
   ]
  },
  {
   "cell_type": "markdown",
   "id": "fdc88b2b",
   "metadata": {
    "papermill": {
     "duration": 0.015995,
     "end_time": "2023-10-06T11:26:13.817522",
     "exception": false,
     "start_time": "2023-10-06T11:26:13.801527",
     "status": "completed"
    },
    "tags": []
   },
   "source": [
    "* ###  Data Clean Up- Treating Missing Value  "
   ]
  },
  {
   "cell_type": "code",
   "execution_count": 8,
   "id": "086c9838",
   "metadata": {
    "execution": {
     "iopub.execute_input": "2023-10-06T11:26:13.854246Z",
     "iopub.status.busy": "2023-10-06T11:26:13.853528Z",
     "iopub.status.idle": "2023-10-06T11:26:13.865104Z",
     "shell.execute_reply": "2023-10-06T11:26:13.864192Z"
    },
    "papermill": {
     "duration": 0.033155,
     "end_time": "2023-10-06T11:26:13.867714",
     "exception": false,
     "start_time": "2023-10-06T11:26:13.834559",
     "status": "completed"
    },
    "tags": []
   },
   "outputs": [
    {
     "data": {
      "text/plain": [
       "Rating            1474\n",
       "App_Name             0\n",
       "Category             0\n",
       "Reviews              0\n",
       "Size                 0\n",
       "Installs             0\n",
       "Type                 1\n",
       "Price                0\n",
       "Content_Rating       0\n",
       "Genres               0\n",
       "Last_Updated         0\n",
       "Current_Ver          8\n",
       "Android_Ver          2\n",
       "dtype: int64"
      ]
     },
     "execution_count": 8,
     "metadata": {},
     "output_type": "execute_result"
    }
   ],
   "source": [
    "# Checking the null values in all columns\n",
    "play_data.isnull().sum()"
   ]
  },
  {
   "cell_type": "code",
   "execution_count": 9,
   "id": "602f76ea",
   "metadata": {
    "execution": {
     "iopub.execute_input": "2023-10-06T11:26:13.903475Z",
     "iopub.status.busy": "2023-10-06T11:26:13.903137Z",
     "iopub.status.idle": "2023-10-06T11:26:13.913803Z",
     "shell.execute_reply": "2023-10-06T11:26:13.912598Z"
    },
    "papermill": {
     "duration": 0.031233,
     "end_time": "2023-10-06T11:26:13.916269",
     "exception": false,
     "start_time": "2023-10-06T11:26:13.885036",
     "status": "completed"
    },
    "tags": []
   },
   "outputs": [
    {
     "data": {
      "text/plain": [
       "Index([   23,   113,   123,   126,   129,   130,   134,   163,   180,   185,\n",
       "       ...\n",
       "       10815, 10817, 10820, 10821, 10822, 10823, 10824, 10830, 10834, 10837],\n",
       "      dtype='int64', length=1474)"
      ]
     },
     "execution_count": 9,
     "metadata": {},
     "output_type": "execute_result"
    }
   ],
   "source": [
    "# Checking the null values index from the Rating column\n",
    "play_data[play_data['Rating'].isnull()].index"
   ]
  },
  {
   "cell_type": "code",
   "execution_count": 10,
   "id": "d987fd70",
   "metadata": {
    "execution": {
     "iopub.execute_input": "2023-10-06T11:26:13.951491Z",
     "iopub.status.busy": "2023-10-06T11:26:13.951144Z",
     "iopub.status.idle": "2023-10-06T11:26:13.960959Z",
     "shell.execute_reply": "2023-10-06T11:26:13.960079Z"
    },
    "papermill": {
     "duration": 0.029453,
     "end_time": "2023-10-06T11:26:13.962842",
     "exception": false,
     "start_time": "2023-10-06T11:26:13.933389",
     "status": "completed"
    },
    "tags": []
   },
   "outputs": [],
   "source": [
    "# dropping the null values from the Rating column\n",
    "play_data.drop(index = play_data[play_data['Rating'].isnull()].index,inplace=True)"
   ]
  },
  {
   "cell_type": "code",
   "execution_count": 11,
   "id": "56ac9c29",
   "metadata": {
    "execution": {
     "iopub.execute_input": "2023-10-06T11:26:13.997856Z",
     "iopub.status.busy": "2023-10-06T11:26:13.997545Z",
     "iopub.status.idle": "2023-10-06T11:26:14.011652Z",
     "shell.execute_reply": "2023-10-06T11:26:14.009890Z"
    },
    "papermill": {
     "duration": 0.034285,
     "end_time": "2023-10-06T11:26:14.014091",
     "exception": false,
     "start_time": "2023-10-06T11:26:13.979806",
     "status": "completed"
    },
    "tags": []
   },
   "outputs": [
    {
     "data": {
      "text/plain": [
       "Rating            0\n",
       "App_Name          0\n",
       "Category          0\n",
       "Reviews           0\n",
       "Size              0\n",
       "Installs          0\n",
       "Type              0\n",
       "Price             0\n",
       "Content_Rating    0\n",
       "Genres            0\n",
       "Last_Updated      0\n",
       "Current_Ver       4\n",
       "Android_Ver       2\n",
       "dtype: int64"
      ]
     },
     "execution_count": 11,
     "metadata": {},
     "output_type": "execute_result"
    }
   ],
   "source": [
    "play_data.isnull().sum()"
   ]
  },
  {
   "cell_type": "markdown",
   "id": "2a256637",
   "metadata": {
    "papermill": {
     "duration": 0.016834,
     "end_time": "2023-10-06T11:26:14.048605",
     "exception": false,
     "start_time": "2023-10-06T11:26:14.031771",
     "status": "completed"
    },
    "tags": []
   },
   "source": [
    "* ### NULL Value in Android_Ver "
   ]
  },
  {
   "cell_type": "code",
   "execution_count": 12,
   "id": "c28111d5",
   "metadata": {
    "execution": {
     "iopub.execute_input": "2023-10-06T11:26:14.086396Z",
     "iopub.status.busy": "2023-10-06T11:26:14.086089Z",
     "iopub.status.idle": "2023-10-06T11:26:14.099370Z",
     "shell.execute_reply": "2023-10-06T11:26:14.098057Z"
    },
    "papermill": {
     "duration": 0.035383,
     "end_time": "2023-10-06T11:26:14.101821",
     "exception": false,
     "start_time": "2023-10-06T11:26:14.066438",
     "status": "completed"
    },
    "tags": []
   },
   "outputs": [
    {
     "data": {
      "text/html": [
       "<div>\n",
       "<style scoped>\n",
       "    .dataframe tbody tr th:only-of-type {\n",
       "        vertical-align: middle;\n",
       "    }\n",
       "\n",
       "    .dataframe tbody tr th {\n",
       "        vertical-align: top;\n",
       "    }\n",
       "\n",
       "    .dataframe thead th {\n",
       "        text-align: right;\n",
       "    }\n",
       "</style>\n",
       "<table border=\"1\" class=\"dataframe\">\n",
       "  <thead>\n",
       "    <tr style=\"text-align: right;\">\n",
       "      <th></th>\n",
       "      <th>Rating</th>\n",
       "      <th>App_Name</th>\n",
       "      <th>Category</th>\n",
       "      <th>Reviews</th>\n",
       "      <th>Size</th>\n",
       "      <th>Installs</th>\n",
       "      <th>Type</th>\n",
       "      <th>Price</th>\n",
       "      <th>Content_Rating</th>\n",
       "      <th>Genres</th>\n",
       "      <th>Last_Updated</th>\n",
       "      <th>Current_Ver</th>\n",
       "      <th>Android_Ver</th>\n",
       "    </tr>\n",
       "  </thead>\n",
       "  <tbody>\n",
       "    <tr>\n",
       "      <th>4453</th>\n",
       "      <td>4.4</td>\n",
       "      <td>[substratum] Vacuum: P</td>\n",
       "      <td>PERSONALIZATION</td>\n",
       "      <td>230</td>\n",
       "      <td>11M</td>\n",
       "      <td>1,000+</td>\n",
       "      <td>Paid</td>\n",
       "      <td>$1.49</td>\n",
       "      <td>Everyone</td>\n",
       "      <td>Personalization</td>\n",
       "      <td>20-Jul-18</td>\n",
       "      <td>4.4</td>\n",
       "      <td>NaN</td>\n",
       "    </tr>\n",
       "    <tr>\n",
       "      <th>4490</th>\n",
       "      <td>4.5</td>\n",
       "      <td>Pi Dark [substratum]</td>\n",
       "      <td>PERSONALIZATION</td>\n",
       "      <td>189</td>\n",
       "      <td>2.1M</td>\n",
       "      <td>10,000+</td>\n",
       "      <td>Free</td>\n",
       "      <td>0</td>\n",
       "      <td>Everyone</td>\n",
       "      <td>Personalization</td>\n",
       "      <td>27-Mar-18</td>\n",
       "      <td>1.1</td>\n",
       "      <td>NaN</td>\n",
       "    </tr>\n",
       "  </tbody>\n",
       "</table>\n",
       "</div>"
      ],
      "text/plain": [
       "      Rating                App_Name         Category  Reviews  Size Installs  \\\n",
       "4453     4.4  [substratum] Vacuum: P  PERSONALIZATION      230   11M   1,000+   \n",
       "4490     4.5    Pi Dark [substratum]  PERSONALIZATION      189  2.1M  10,000+   \n",
       "\n",
       "      Type   Price Content_Rating           Genres Last_Updated Current_Ver  \\\n",
       "4453  Paid  $1.49        Everyone  Personalization    20-Jul-18         4.4   \n",
       "4490  Free       0       Everyone  Personalization    27-Mar-18         1.1   \n",
       "\n",
       "     Android_Ver  \n",
       "4453         NaN  \n",
       "4490         NaN  "
      ]
     },
     "execution_count": 12,
     "metadata": {},
     "output_type": "execute_result"
    }
   ],
   "source": [
    "play_data[play_data['Android_Ver'].isnull()]"
   ]
  },
  {
   "cell_type": "markdown",
   "id": "55fcec5c",
   "metadata": {
    "papermill": {
     "duration": 0.016474,
     "end_time": "2023-10-06T11:26:14.135315",
     "exception": false,
     "start_time": "2023-10-06T11:26:14.118841",
     "status": "completed"
    },
    "tags": []
   },
   "source": [
    "* ### Replace remaining missing values with the mode "
   ]
  },
  {
   "cell_type": "code",
   "execution_count": 13,
   "id": "e0d4a185",
   "metadata": {
    "execution": {
     "iopub.execute_input": "2023-10-06T11:26:14.169989Z",
     "iopub.status.busy": "2023-10-06T11:26:14.169704Z",
     "iopub.status.idle": "2023-10-06T11:26:14.174870Z",
     "shell.execute_reply": "2023-10-06T11:26:14.173858Z"
    },
    "papermill": {
     "duration": 0.025212,
     "end_time": "2023-10-06T11:26:14.177479",
     "exception": false,
     "start_time": "2023-10-06T11:26:14.152267",
     "status": "completed"
    },
    "tags": []
   },
   "outputs": [
    {
     "data": {
      "text/plain": [
       "Index(['Rating', 'App_Name', 'Category', 'Reviews', 'Size', 'Installs', 'Type',\n",
       "       'Price', 'Content_Rating', 'Genres', 'Last_Updated', 'Current_Ver',\n",
       "       'Android_Ver'],\n",
       "      dtype='object')"
      ]
     },
     "execution_count": 13,
     "metadata": {},
     "output_type": "execute_result"
    }
   ],
   "source": [
    "play_data.columns"
   ]
  },
  {
   "cell_type": "code",
   "execution_count": 14,
   "id": "0da7d921",
   "metadata": {
    "execution": {
     "iopub.execute_input": "2023-10-06T11:26:14.214240Z",
     "iopub.status.busy": "2023-10-06T11:26:14.213593Z",
     "iopub.status.idle": "2023-10-06T11:26:14.220787Z",
     "shell.execute_reply": "2023-10-06T11:26:14.219356Z"
    },
    "papermill": {
     "duration": 0.027426,
     "end_time": "2023-10-06T11:26:14.222628",
     "exception": false,
     "start_time": "2023-10-06T11:26:14.195202",
     "status": "completed"
    },
    "tags": []
   },
   "outputs": [
    {
     "data": {
      "text/plain": [
       "'4.1 and up'"
      ]
     },
     "execution_count": 14,
     "metadata": {},
     "output_type": "execute_result"
    }
   ],
   "source": [
    "# here we are finding the mode value of the Android Ver Column and then storing it in the new variable called x\n",
    "A_play = play_data['Android_Ver'].mode()[0]\n",
    "A_play"
   ]
  },
  {
   "cell_type": "code",
   "execution_count": 15,
   "id": "1f9b9bc1",
   "metadata": {
    "execution": {
     "iopub.execute_input": "2023-10-06T11:26:14.257781Z",
     "iopub.status.busy": "2023-10-06T11:26:14.257262Z",
     "iopub.status.idle": "2023-10-06T11:26:14.263913Z",
     "shell.execute_reply": "2023-10-06T11:26:14.261782Z"
    },
    "papermill": {
     "duration": 0.027346,
     "end_time": "2023-10-06T11:26:14.266852",
     "exception": false,
     "start_time": "2023-10-06T11:26:14.239506",
     "status": "completed"
    },
    "tags": []
   },
   "outputs": [],
   "source": [
    "# filling those null values with the mode() value \n",
    "play_data['Android_Ver'].fillna(A_play,inplace=True)"
   ]
  },
  {
   "cell_type": "code",
   "execution_count": 16,
   "id": "d59bb2f2",
   "metadata": {
    "execution": {
     "iopub.execute_input": "2023-10-06T11:26:14.302377Z",
     "iopub.status.busy": "2023-10-06T11:26:14.301839Z",
     "iopub.status.idle": "2023-10-06T11:26:14.313646Z",
     "shell.execute_reply": "2023-10-06T11:26:14.312436Z"
    },
    "papermill": {
     "duration": 0.032106,
     "end_time": "2023-10-06T11:26:14.315881",
     "exception": false,
     "start_time": "2023-10-06T11:26:14.283775",
     "status": "completed"
    },
    "tags": []
   },
   "outputs": [
    {
     "data": {
      "text/html": [
       "<div>\n",
       "<style scoped>\n",
       "    .dataframe tbody tr th:only-of-type {\n",
       "        vertical-align: middle;\n",
       "    }\n",
       "\n",
       "    .dataframe tbody tr th {\n",
       "        vertical-align: top;\n",
       "    }\n",
       "\n",
       "    .dataframe thead th {\n",
       "        text-align: right;\n",
       "    }\n",
       "</style>\n",
       "<table border=\"1\" class=\"dataframe\">\n",
       "  <thead>\n",
       "    <tr style=\"text-align: right;\">\n",
       "      <th></th>\n",
       "      <th>Rating</th>\n",
       "      <th>App_Name</th>\n",
       "      <th>Category</th>\n",
       "      <th>Reviews</th>\n",
       "      <th>Size</th>\n",
       "      <th>Installs</th>\n",
       "      <th>Type</th>\n",
       "      <th>Price</th>\n",
       "      <th>Content_Rating</th>\n",
       "      <th>Genres</th>\n",
       "      <th>Last_Updated</th>\n",
       "      <th>Current_Ver</th>\n",
       "      <th>Android_Ver</th>\n",
       "    </tr>\n",
       "  </thead>\n",
       "  <tbody>\n",
       "  </tbody>\n",
       "</table>\n",
       "</div>"
      ],
      "text/plain": [
       "Empty DataFrame\n",
       "Columns: [Rating, App_Name, Category, Reviews, Size, Installs, Type, Price, Content_Rating, Genres, Last_Updated, Current_Ver, Android_Ver]\n",
       "Index: []"
      ]
     },
     "execution_count": 16,
     "metadata": {},
     "output_type": "execute_result"
    }
   ],
   "source": [
    "play_data[play_data['Android_Ver'].isnull()]"
   ]
  },
  {
   "cell_type": "markdown",
   "id": "48848b38",
   "metadata": {
    "papermill": {
     "duration": 0.016587,
     "end_time": "2023-10-06T11:26:14.350732",
     "exception": false,
     "start_time": "2023-10-06T11:26:14.334145",
     "status": "completed"
    },
    "tags": []
   },
   "source": [
    "> There is null values in Android Ver column"
   ]
  },
  {
   "cell_type": "markdown",
   "id": "056f66be",
   "metadata": {
    "papermill": {
     "duration": 0.017072,
     "end_time": "2023-10-06T11:26:14.385491",
     "exception": false,
     "start_time": "2023-10-06T11:26:14.368419",
     "status": "completed"
    },
    "tags": []
   },
   "source": [
    "* ###  Current Ver - Replace with most common value"
   ]
  },
  {
   "cell_type": "code",
   "execution_count": 17,
   "id": "17434e69",
   "metadata": {
    "execution": {
     "iopub.execute_input": "2023-10-06T11:26:14.421797Z",
     "iopub.status.busy": "2023-10-06T11:26:14.421515Z",
     "iopub.status.idle": "2023-10-06T11:26:14.433745Z",
     "shell.execute_reply": "2023-10-06T11:26:14.432525Z"
    },
    "papermill": {
     "duration": 0.032226,
     "end_time": "2023-10-06T11:26:14.435645",
     "exception": false,
     "start_time": "2023-10-06T11:26:14.403419",
     "status": "completed"
    },
    "tags": []
   },
   "outputs": [
    {
     "data": {
      "text/plain": [
       "Rating            0\n",
       "App_Name          0\n",
       "Category          0\n",
       "Reviews           0\n",
       "Size              0\n",
       "Installs          0\n",
       "Type              0\n",
       "Price             0\n",
       "Content_Rating    0\n",
       "Genres            0\n",
       "Last_Updated      0\n",
       "Current_Ver       4\n",
       "Android_Ver       0\n",
       "dtype: int64"
      ]
     },
     "execution_count": 17,
     "metadata": {},
     "output_type": "execute_result"
    }
   ],
   "source": [
    "play_data.isnull().sum()"
   ]
  },
  {
   "cell_type": "code",
   "execution_count": 18,
   "id": "8e8daf94",
   "metadata": {
    "execution": {
     "iopub.execute_input": "2023-10-06T11:26:14.474334Z",
     "iopub.status.busy": "2023-10-06T11:26:14.473996Z",
     "iopub.status.idle": "2023-10-06T11:26:14.482033Z",
     "shell.execute_reply": "2023-10-06T11:26:14.481199Z"
    },
    "papermill": {
     "duration": 0.029919,
     "end_time": "2023-10-06T11:26:14.483527",
     "exception": false,
     "start_time": "2023-10-06T11:26:14.453608",
     "status": "completed"
    },
    "tags": []
   },
   "outputs": [
    {
     "data": {
      "text/plain": [
       "'Varies with device'"
      ]
     },
     "execution_count": 18,
     "metadata": {},
     "output_type": "execute_result"
    }
   ],
   "source": [
    "#finding the mode value of the Current Ver column and storing it in the new variable called y\n",
    "\n",
    "C_play=play_data['Current_Ver'].mode()[0]\n",
    "C_play"
   ]
  },
  {
   "cell_type": "code",
   "execution_count": 19,
   "id": "cd02c69a",
   "metadata": {
    "execution": {
     "iopub.execute_input": "2023-10-06T11:26:14.519671Z",
     "iopub.status.busy": "2023-10-06T11:26:14.519398Z",
     "iopub.status.idle": "2023-10-06T11:26:14.525316Z",
     "shell.execute_reply": "2023-10-06T11:26:14.523999Z"
    },
    "papermill": {
     "duration": 0.026594,
     "end_time": "2023-10-06T11:26:14.527816",
     "exception": false,
     "start_time": "2023-10-06T11:26:14.501222",
     "status": "completed"
    },
    "tags": []
   },
   "outputs": [],
   "source": [
    "# filling the null values with the mode \n",
    "play_data['Current_Ver'].fillna(C_play, inplace=True)"
   ]
  },
  {
   "cell_type": "code",
   "execution_count": 20,
   "id": "323984d1",
   "metadata": {
    "execution": {
     "iopub.execute_input": "2023-10-06T11:26:14.565101Z",
     "iopub.status.busy": "2023-10-06T11:26:14.564780Z",
     "iopub.status.idle": "2023-10-06T11:26:14.577471Z",
     "shell.execute_reply": "2023-10-06T11:26:14.576054Z"
    },
    "papermill": {
     "duration": 0.033668,
     "end_time": "2023-10-06T11:26:14.579691",
     "exception": false,
     "start_time": "2023-10-06T11:26:14.546023",
     "status": "completed"
    },
    "tags": []
   },
   "outputs": [
    {
     "data": {
      "text/plain": [
       "Rating            0\n",
       "App_Name          0\n",
       "Category          0\n",
       "Reviews           0\n",
       "Size              0\n",
       "Installs          0\n",
       "Type              0\n",
       "Price             0\n",
       "Content_Rating    0\n",
       "Genres            0\n",
       "Last_Updated      0\n",
       "Current_Ver       0\n",
       "Android_Ver       0\n",
       "dtype: int64"
      ]
     },
     "execution_count": 20,
     "metadata": {},
     "output_type": "execute_result"
    }
   ],
   "source": [
    "play_data.isnull().sum()"
   ]
  },
  {
   "cell_type": "markdown",
   "id": "265bb216",
   "metadata": {
    "papermill": {
     "duration": 0.017212,
     "end_time": "2023-10-06T11:26:14.614884",
     "exception": false,
     "start_time": "2023-10-06T11:26:14.597672",
     "status": "completed"
    },
    "tags": []
   },
   "source": [
    "## Data Clean Up - Correcting the Data Types "
   ]
  },
  {
   "cell_type": "markdown",
   "id": "206d2901",
   "metadata": {
    "papermill": {
     "duration": 0.018364,
     "end_time": "2023-10-06T11:26:14.651183",
     "exception": false,
     "start_time": "2023-10-06T11:26:14.632819",
     "status": "completed"
    },
    "tags": []
   },
   "source": [
    " * ### Which all variable need to be brought to numeric types "
   ]
  },
  {
   "cell_type": "code",
   "execution_count": 21,
   "id": "dfa41f10",
   "metadata": {
    "execution": {
     "iopub.execute_input": "2023-10-06T11:26:14.687222Z",
     "iopub.status.busy": "2023-10-06T11:26:14.686904Z",
     "iopub.status.idle": "2023-10-06T11:26:14.899764Z",
     "shell.execute_reply": "2023-10-06T11:26:14.898214Z"
    },
    "papermill": {
     "duration": 0.233322,
     "end_time": "2023-10-06T11:26:14.901926",
     "exception": true,
     "start_time": "2023-10-06T11:26:14.668604",
     "status": "failed"
    },
    "tags": []
   },
   "outputs": [
    {
     "ename": "NameError",
     "evalue": "name 'df' is not defined",
     "output_type": "error",
     "traceback": [
      "\u001b[0;31m---------------------------------------------------------------------------\u001b[0m",
      "\u001b[0;31mNameError\u001b[0m                                 Traceback (most recent call last)",
      "Cell \u001b[0;32mIn[21], line 1\u001b[0m\n\u001b[0;32m----> 1\u001b[0m \u001b[43mdf\u001b[49m\u001b[38;5;241m.\u001b[39mhead(\u001b[38;5;241m3\u001b[39m)\n",
      "\u001b[0;31mNameError\u001b[0m: name 'df' is not defined"
     ]
    }
   ],
   "source": [
    "df.head(3)"
   ]
  },
  {
   "cell_type": "code",
   "execution_count": null,
   "id": "f4ba783f",
   "metadata": {
    "execution": {
     "iopub.execute_input": "2023-10-06T09:53:11.303102Z",
     "iopub.status.busy": "2023-10-06T09:53:11.302608Z",
     "iopub.status.idle": "2023-10-06T09:53:11.328322Z",
     "shell.execute_reply": "2023-10-06T09:53:11.326533Z",
     "shell.execute_reply.started": "2023-10-06T09:53:11.303059Z"
    },
    "papermill": {
     "duration": null,
     "end_time": null,
     "exception": null,
     "start_time": null,
     "status": "pending"
    },
    "tags": []
   },
   "outputs": [],
   "source": [
    "play_data.info()"
   ]
  },
  {
   "cell_type": "markdown",
   "id": "299bc0ce",
   "metadata": {
    "papermill": {
     "duration": null,
     "end_time": null,
     "exception": null,
     "start_time": null,
     "status": "pending"
    },
    "tags": []
   },
   "source": [
    "> From this information, we can see that, the column Reviews, Installs and Price have the numeric data so we can convert these columns into the numeric types, but there are also 3 columns which are Size,Current Ver and Android Ver can be conevert into the numeric type but in those columnn there are some strig values which we can drop it or replace it."
   ]
  },
  {
   "cell_type": "markdown",
   "id": "ececc185",
   "metadata": {
    "papermill": {
     "duration": null,
     "end_time": null,
     "exception": null,
     "start_time": null,
     "status": "pending"
    },
    "tags": []
   },
   "source": [
    "* ### Price variable – remove $ sign and convert to float "
   ]
  },
  {
   "cell_type": "code",
   "execution_count": null,
   "id": "d1dec2e9",
   "metadata": {
    "execution": {
     "iopub.execute_input": "2023-10-06T09:54:50.951370Z",
     "iopub.status.busy": "2023-10-06T09:54:50.950891Z",
     "iopub.status.idle": "2023-10-06T09:54:50.980673Z",
     "shell.execute_reply": "2023-10-06T09:54:50.979921Z",
     "shell.execute_reply.started": "2023-10-06T09:54:50.951333Z"
    },
    "papermill": {
     "duration": null,
     "end_time": null,
     "exception": null,
     "start_time": null,
     "status": "pending"
    },
    "tags": []
   },
   "outputs": [],
   "source": [
    "play_data[play_data['Type']=='Paid']"
   ]
  },
  {
   "cell_type": "code",
   "execution_count": null,
   "id": "570a1ac1",
   "metadata": {
    "execution": {
     "iopub.execute_input": "2023-10-06T09:56:48.674811Z",
     "iopub.status.busy": "2023-10-06T09:56:48.674419Z",
     "iopub.status.idle": "2023-10-06T09:56:48.731373Z",
     "shell.execute_reply": "2023-10-06T09:56:48.729501Z",
     "shell.execute_reply.started": "2023-10-06T09:56:48.674781Z"
    },
    "papermill": {
     "duration": null,
     "end_time": null,
     "exception": null,
     "start_time": null,
     "status": "pending"
    },
    "tags": []
   },
   "outputs": [],
   "source": [
    "# Removing $ and change data type\n",
    "play_data['Price'] = play_data['Price'].str.replace('$','')\n"
   ]
  },
  {
   "cell_type": "code",
   "execution_count": null,
   "id": "ee509e4e",
   "metadata": {
    "execution": {
     "iopub.execute_input": "2023-10-06T09:56:52.609874Z",
     "iopub.status.busy": "2023-10-06T09:56:52.609184Z",
     "iopub.status.idle": "2023-10-06T09:56:52.616310Z",
     "shell.execute_reply": "2023-10-06T09:56:52.614843Z",
     "shell.execute_reply.started": "2023-10-06T09:56:52.609808Z"
    },
    "papermill": {
     "duration": null,
     "end_time": null,
     "exception": null,
     "start_time": null,
     "status": "pending"
    },
    "tags": []
   },
   "outputs": [],
   "source": [
    "play_data['Price'] = pd.to_numeric(play_data['Price'])"
   ]
  },
  {
   "cell_type": "code",
   "execution_count": null,
   "id": "3265f288",
   "metadata": {
    "execution": {
     "iopub.execute_input": "2023-10-06T09:57:02.628596Z",
     "iopub.status.busy": "2023-10-06T09:57:02.628202Z",
     "iopub.status.idle": "2023-10-06T09:57:02.638073Z",
     "shell.execute_reply": "2023-10-06T09:57:02.637338Z",
     "shell.execute_reply.started": "2023-10-06T09:57:02.628567Z"
    },
    "papermill": {
     "duration": null,
     "end_time": null,
     "exception": null,
     "start_time": null,
     "status": "pending"
    },
    "tags": []
   },
   "outputs": [],
   "source": [
    "play_data['Price']"
   ]
  },
  {
   "cell_type": "code",
   "execution_count": null,
   "id": "72ad6657",
   "metadata": {
    "execution": {
     "iopub.execute_input": "2023-10-06T09:57:15.126066Z",
     "iopub.status.busy": "2023-10-06T09:57:15.125712Z",
     "iopub.status.idle": "2023-10-06T09:57:15.146846Z",
     "shell.execute_reply": "2023-10-06T09:57:15.145727Z",
     "shell.execute_reply.started": "2023-10-06T09:57:15.126037Z"
    },
    "papermill": {
     "duration": null,
     "end_time": null,
     "exception": null,
     "start_time": null,
     "status": "pending"
    },
    "tags": []
   },
   "outputs": [],
   "source": [
    "play_data.info()"
   ]
  },
  {
   "cell_type": "markdown",
   "id": "00acf843",
   "metadata": {
    "papermill": {
     "duration": null,
     "end_time": null,
     "exception": null,
     "start_time": null,
     "status": "pending"
    },
    "tags": []
   },
   "source": [
    "* ## Installs Column - Remove ',' and '+' sign, Convert to Integer"
   ]
  },
  {
   "cell_type": "code",
   "execution_count": null,
   "id": "b506d523",
   "metadata": {
    "execution": {
     "iopub.execute_input": "2023-10-06T09:58:18.560380Z",
     "iopub.status.busy": "2023-10-06T09:58:18.560024Z",
     "iopub.status.idle": "2023-10-06T09:58:18.581624Z",
     "shell.execute_reply": "2023-10-06T09:58:18.580386Z",
     "shell.execute_reply.started": "2023-10-06T09:58:18.560354Z"
    },
    "papermill": {
     "duration": null,
     "end_time": null,
     "exception": null,
     "start_time": null,
     "status": "pending"
    },
    "tags": []
   },
   "outputs": [],
   "source": [
    "# Replacing the given condition using this syntax\n",
    "play_data['Installs'] = pd.to_numeric(play_data['Installs'].str.replace(',','').str.replace(\"+\",\"\"))"
   ]
  },
  {
   "cell_type": "code",
   "execution_count": null,
   "id": "de7bea2c",
   "metadata": {
    "execution": {
     "iopub.execute_input": "2023-10-06T09:58:34.613259Z",
     "iopub.status.busy": "2023-10-06T09:58:34.612919Z",
     "iopub.status.idle": "2023-10-06T09:58:34.629136Z",
     "shell.execute_reply": "2023-10-06T09:58:34.627931Z",
     "shell.execute_reply.started": "2023-10-06T09:58:34.613232Z"
    },
    "papermill": {
     "duration": null,
     "end_time": null,
     "exception": null,
     "start_time": null,
     "status": "pending"
    },
    "tags": []
   },
   "outputs": [],
   "source": [
    "play_data.head()"
   ]
  },
  {
   "cell_type": "markdown",
   "id": "0d2d7cff",
   "metadata": {
    "papermill": {
     "duration": null,
     "end_time": null,
     "exception": null,
     "start_time": null,
     "status": "pending"
    },
    "tags": []
   },
   "source": [
    "> Here you can see that, there are \",\" and \"+\" from the given column"
   ]
  },
  {
   "cell_type": "markdown",
   "id": "efebff94",
   "metadata": {
    "papermill": {
     "duration": null,
     "end_time": null,
     "exception": null,
     "start_time": null,
     "status": "pending"
    },
    "tags": []
   },
   "source": [
    "* ## Size Column - Remove 'M'and 'Varies with device', Convert to Integer "
   ]
  },
  {
   "cell_type": "code",
   "execution_count": null,
   "id": "27d0817c",
   "metadata": {
    "execution": {
     "iopub.execute_input": "2023-10-06T10:45:08.562853Z",
     "iopub.status.busy": "2023-10-06T10:45:08.562465Z",
     "iopub.status.idle": "2023-10-06T10:45:08.577886Z",
     "shell.execute_reply": "2023-10-06T10:45:08.576856Z",
     "shell.execute_reply.started": "2023-10-06T10:45:08.562824Z"
    },
    "papermill": {
     "duration": null,
     "end_time": null,
     "exception": null,
     "start_time": null,
     "status": "pending"
    },
    "tags": []
   },
   "outputs": [],
   "source": [
    "play_data.head(3)"
   ]
  },
  {
   "cell_type": "code",
   "execution_count": null,
   "id": "e44033a9",
   "metadata": {
    "execution": {
     "iopub.execute_input": "2023-10-06T10:50:48.465032Z",
     "iopub.status.busy": "2023-10-06T10:50:48.464632Z",
     "iopub.status.idle": "2023-10-06T10:50:48.474514Z",
     "shell.execute_reply": "2023-10-06T10:50:48.473109Z",
     "shell.execute_reply.started": "2023-10-06T10:50:48.465002Z"
    },
    "papermill": {
     "duration": null,
     "end_time": null,
     "exception": null,
     "start_time": null,
     "status": "pending"
    },
    "tags": []
   },
   "outputs": [],
   "source": [
    "play_data['Size'][10:60]"
   ]
  },
  {
   "cell_type": "markdown",
   "id": "46a1b217",
   "metadata": {
    "papermill": {
     "duration": null,
     "end_time": null,
     "exception": null,
     "start_time": null,
     "status": "pending"
    },
    "tags": []
   },
   "source": [
    "* ### Replacing 'Varies with device'  in to 'NaN'."
   ]
  },
  {
   "cell_type": "code",
   "execution_count": null,
   "id": "e04ebf0d",
   "metadata": {
    "execution": {
     "iopub.execute_input": "2023-10-06T11:08:42.285295Z",
     "iopub.status.busy": "2023-10-06T11:08:42.284940Z",
     "iopub.status.idle": "2023-10-06T11:08:42.293458Z",
     "shell.execute_reply": "2023-10-06T11:08:42.292180Z",
     "shell.execute_reply.started": "2023-10-06T11:08:42.285267Z"
    },
    "papermill": {
     "duration": null,
     "end_time": null,
     "exception": null,
     "start_time": null,
     "status": "pending"
    },
    "tags": []
   },
   "outputs": [],
   "source": [
    "pls = play_data.copy()"
   ]
  },
  {
   "cell_type": "code",
   "execution_count": null,
   "id": "ca7da403",
   "metadata": {
    "execution": {
     "iopub.execute_input": "2023-10-06T11:08:47.775128Z",
     "iopub.status.busy": "2023-10-06T11:08:47.774761Z",
     "iopub.status.idle": "2023-10-06T11:08:47.782548Z",
     "shell.execute_reply": "2023-10-06T11:08:47.781367Z",
     "shell.execute_reply.started": "2023-10-06T11:08:47.775097Z"
    },
    "papermill": {
     "duration": null,
     "end_time": null,
     "exception": null,
     "start_time": null,
     "status": "pending"
    },
    "tags": []
   },
   "outputs": [],
   "source": [
    "pls['Size'] = pls['Size'].replace('Varies with device', np.nan)"
   ]
  },
  {
   "cell_type": "code",
   "execution_count": null,
   "id": "fff56951",
   "metadata": {
    "execution": {
     "iopub.execute_input": "2023-10-06T11:08:54.707001Z",
     "iopub.status.busy": "2023-10-06T11:08:54.706574Z",
     "iopub.status.idle": "2023-10-06T11:08:54.718802Z",
     "shell.execute_reply": "2023-10-06T11:08:54.717987Z",
     "shell.execute_reply.started": "2023-10-06T11:08:54.706970Z"
    },
    "papermill": {
     "duration": null,
     "end_time": null,
     "exception": null,
     "start_time": null,
     "status": "pending"
    },
    "tags": []
   },
   "outputs": [],
   "source": [
    "pls['Size'] = pls['Size'].str.replace('M', 'e3').str.replace('k', 'e3')"
   ]
  },
  {
   "cell_type": "code",
   "execution_count": null,
   "id": "9efa97fe",
   "metadata": {
    "execution": {
     "iopub.execute_input": "2023-10-06T11:09:00.337253Z",
     "iopub.status.busy": "2023-10-06T11:09:00.336917Z",
     "iopub.status.idle": "2023-10-06T11:09:00.346128Z",
     "shell.execute_reply": "2023-10-06T11:09:00.344986Z",
     "shell.execute_reply.started": "2023-10-06T11:09:00.337227Z"
    },
    "papermill": {
     "duration": null,
     "end_time": null,
     "exception": null,
     "start_time": null,
     "status": "pending"
    },
    "tags": []
   },
   "outputs": [],
   "source": [
    "pls['Size'] = pd.to_numeric(pls['Size'], errors='coerce')"
   ]
  },
  {
   "cell_type": "code",
   "execution_count": null,
   "id": "ca642f04",
   "metadata": {
    "execution": {
     "iopub.execute_input": "2023-10-06T11:09:04.432201Z",
     "iopub.status.busy": "2023-10-06T11:09:04.431857Z",
     "iopub.status.idle": "2023-10-06T11:09:04.454992Z",
     "shell.execute_reply": "2023-10-06T11:09:04.453891Z",
     "shell.execute_reply.started": "2023-10-06T11:09:04.432174Z"
    },
    "papermill": {
     "duration": null,
     "end_time": null,
     "exception": null,
     "start_time": null,
     "status": "pending"
    },
    "tags": []
   },
   "outputs": [],
   "source": [
    "pls"
   ]
  },
  {
   "cell_type": "markdown",
   "id": "114c4987",
   "metadata": {
    "papermill": {
     "duration": null,
     "end_time": null,
     "exception": null,
     "start_time": null,
     "status": "pending"
    },
    "tags": []
   },
   "source": [
    "### Converting all other identified columns to numeric "
   ]
  },
  {
   "cell_type": "code",
   "execution_count": null,
   "id": "05d4192a",
   "metadata": {
    "execution": {
     "iopub.execute_input": "2023-10-06T11:09:11.774740Z",
     "iopub.status.busy": "2023-10-06T11:09:11.774371Z",
     "iopub.status.idle": "2023-10-06T11:09:11.793504Z",
     "shell.execute_reply": "2023-10-06T11:09:11.791764Z",
     "shell.execute_reply.started": "2023-10-06T11:09:11.774712Z"
    },
    "papermill": {
     "duration": null,
     "end_time": null,
     "exception": null,
     "start_time": null,
     "status": "pending"
    },
    "tags": []
   },
   "outputs": [],
   "source": [
    "pls.info()"
   ]
  },
  {
   "cell_type": "markdown",
   "id": "784d1fe9",
   "metadata": {
    "papermill": {
     "duration": null,
     "end_time": null,
     "exception": null,
     "start_time": null,
     "status": "pending"
    },
    "tags": []
   },
   "source": [
    "> From the given info, we have already converted the identifies columns into the numeric type so now, there are no such columns which we need to convert to numeric type"
   ]
  },
  {
   "cell_type": "markdown",
   "id": "1f512919",
   "metadata": {
    "papermill": {
     "duration": null,
     "end_time": null,
     "exception": null,
     "start_time": null,
     "status": "pending"
    },
    "tags": []
   },
   "source": [
    "## Sanity checks – check for the following and handle accordingly"
   ]
  },
  {
   "cell_type": "markdown",
   "id": "ec71c8a8",
   "metadata": {
    "papermill": {
     "duration": null,
     "end_time": null,
     "exception": null,
     "start_time": null,
     "status": "pending"
    },
    "tags": []
   },
   "source": [
    "* ### Average rating should be between 1 and 5, as only these allowed ob the playstore. "
   ]
  },
  {
   "cell_type": "markdown",
   "id": "19d5c7e2",
   "metadata": {
    "papermill": {
     "duration": null,
     "end_time": null,
     "exception": null,
     "start_time": null,
     "status": "pending"
    },
    "tags": []
   },
   "source": [
    "**1. Are there any such records? Drop if so.**"
   ]
  },
  {
   "cell_type": "code",
   "execution_count": null,
   "id": "643b3588",
   "metadata": {
    "execution": {
     "iopub.execute_input": "2023-10-06T11:09:18.868707Z",
     "iopub.status.busy": "2023-10-06T11:09:18.868246Z",
     "iopub.status.idle": "2023-10-06T11:09:18.886860Z",
     "shell.execute_reply": "2023-10-06T11:09:18.885657Z",
     "shell.execute_reply.started": "2023-10-06T11:09:18.868669Z"
    },
    "papermill": {
     "duration": null,
     "end_time": null,
     "exception": null,
     "start_time": null,
     "status": "pending"
    },
    "tags": []
   },
   "outputs": [],
   "source": [
    "pls.head()"
   ]
  },
  {
   "cell_type": "code",
   "execution_count": null,
   "id": "6782a292",
   "metadata": {
    "execution": {
     "iopub.execute_input": "2023-10-06T11:09:28.832462Z",
     "iopub.status.busy": "2023-10-06T11:09:28.832122Z",
     "iopub.status.idle": "2023-10-06T11:09:28.844807Z",
     "shell.execute_reply": "2023-10-06T11:09:28.843515Z",
     "shell.execute_reply.started": "2023-10-06T11:09:28.832438Z"
    },
    "papermill": {
     "duration": null,
     "end_time": null,
     "exception": null,
     "start_time": null,
     "status": "pending"
    },
    "tags": []
   },
   "outputs": [],
   "source": [
    "pls[pls['Rating']>5]"
   ]
  },
  {
   "cell_type": "markdown",
   "id": "6daf4b3d",
   "metadata": {
    "papermill": {
     "duration": null,
     "end_time": null,
     "exception": null,
     "start_time": null,
     "status": "pending"
    },
    "tags": []
   },
   "source": [
    ">All the rating are below or equal to 5."
   ]
  },
  {
   "cell_type": "markdown",
   "id": "e8df4887",
   "metadata": {
    "papermill": {
     "duration": null,
     "end_time": null,
     "exception": null,
     "start_time": null,
     "status": "pending"
    },
    "tags": []
   },
   "source": [
    "* ##  Reviews should not be more than installs as only those who installed can review the app. "
   ]
  },
  {
   "cell_type": "code",
   "execution_count": null,
   "id": "dd519b37",
   "metadata": {
    "execution": {
     "iopub.execute_input": "2023-10-06T11:09:39.028881Z",
     "iopub.status.busy": "2023-10-06T11:09:39.028523Z",
     "iopub.status.idle": "2023-10-06T11:09:39.036703Z",
     "shell.execute_reply": "2023-10-06T11:09:39.035860Z",
     "shell.execute_reply.started": "2023-10-06T11:09:39.028854Z"
    },
    "papermill": {
     "duration": null,
     "end_time": null,
     "exception": null,
     "start_time": null,
     "status": "pending"
    },
    "tags": []
   },
   "outputs": [],
   "source": [
    "sum(pls['Reviews']>pls['Installs'])"
   ]
  },
  {
   "cell_type": "code",
   "execution_count": null,
   "id": "4f0e40c4",
   "metadata": {
    "execution": {
     "iopub.execute_input": "2023-10-06T11:09:49.541180Z",
     "iopub.status.busy": "2023-10-06T11:09:49.540838Z",
     "iopub.status.idle": "2023-10-06T11:09:49.550988Z",
     "shell.execute_reply": "2023-10-06T11:09:49.549138Z",
     "shell.execute_reply.started": "2023-10-06T11:09:49.541154Z"
    },
    "papermill": {
     "duration": null,
     "end_time": null,
     "exception": null,
     "start_time": null,
     "status": "pending"
    },
    "tags": []
   },
   "outputs": [],
   "source": [
    "pls[pls['Reviews']>pls['Installs']].index"
   ]
  },
  {
   "cell_type": "markdown",
   "id": "41f3171a",
   "metadata": {
    "papermill": {
     "duration": null,
     "end_time": null,
     "exception": null,
     "start_time": null,
     "status": "pending"
    },
    "tags": []
   },
   "source": [
    "> There is 7 records are having more reviwes than installs.So let's drop these records."
   ]
  },
  {
   "cell_type": "code",
   "execution_count": null,
   "id": "7a52b0d7",
   "metadata": {
    "execution": {
     "iopub.execute_input": "2023-10-06T11:10:16.242415Z",
     "iopub.status.busy": "2023-10-06T11:10:16.242030Z",
     "iopub.status.idle": "2023-10-06T11:10:16.251962Z",
     "shell.execute_reply": "2023-10-06T11:10:16.250283Z",
     "shell.execute_reply.started": "2023-10-06T11:10:16.242385Z"
    },
    "papermill": {
     "duration": null,
     "end_time": null,
     "exception": null,
     "start_time": null,
     "status": "pending"
    },
    "tags": []
   },
   "outputs": [],
   "source": [
    "pls.drop(index=pls[pls['Reviews']>pls['Installs']].index,inplace=True)"
   ]
  },
  {
   "cell_type": "code",
   "execution_count": null,
   "id": "9e0c2bb0",
   "metadata": {
    "execution": {
     "iopub.execute_input": "2023-10-06T11:10:26.614810Z",
     "iopub.status.busy": "2023-10-06T11:10:26.614397Z",
     "iopub.status.idle": "2023-10-06T11:10:26.626836Z",
     "shell.execute_reply": "2023-10-06T11:10:26.625434Z",
     "shell.execute_reply.started": "2023-10-06T11:10:26.614779Z"
    },
    "papermill": {
     "duration": null,
     "end_time": null,
     "exception": null,
     "start_time": null,
     "status": "pending"
    },
    "tags": []
   },
   "outputs": [],
   "source": [
    "pls[pls['Reviews']>pls['Installs']]"
   ]
  },
  {
   "cell_type": "markdown",
   "id": "34aad6d8",
   "metadata": {
    "papermill": {
     "duration": null,
     "end_time": null,
     "exception": null,
     "start_time": null,
     "status": "pending"
    },
    "tags": []
   },
   "source": [
    "> We remove all those records who having more reviews than installs."
   ]
  },
  {
   "cell_type": "markdown",
   "id": "a028769c",
   "metadata": {
    "papermill": {
     "duration": null,
     "end_time": null,
     "exception": null,
     "start_time": null,
     "status": "pending"
    },
    "tags": []
   },
   "source": [
    "##  Identify and handle outliers – Identify and handle outliers –"
   ]
  },
  {
   "cell_type": "markdown",
   "id": "e418526b",
   "metadata": {
    "papermill": {
     "duration": null,
     "end_time": null,
     "exception": null,
     "start_time": null,
     "status": "pending"
    },
    "tags": []
   },
   "source": [
    " * ###  Price column"
   ]
  },
  {
   "cell_type": "markdown",
   "id": "27311bf8",
   "metadata": {
    "papermill": {
     "duration": null,
     "end_time": null,
     "exception": null,
     "start_time": null,
     "status": "pending"
    },
    "tags": []
   },
   "source": [
    "#### Plot to identify outliers in price"
   ]
  },
  {
   "cell_type": "code",
   "execution_count": null,
   "id": "03153db4",
   "metadata": {
    "execution": {
     "iopub.execute_input": "2023-10-06T11:10:32.225950Z",
     "iopub.status.busy": "2023-10-06T11:10:32.225585Z",
     "iopub.status.idle": "2023-10-06T11:10:32.465301Z",
     "shell.execute_reply": "2023-10-06T11:10:32.464030Z",
     "shell.execute_reply.started": "2023-10-06T11:10:32.225924Z"
    },
    "papermill": {
     "duration": null,
     "end_time": null,
     "exception": null,
     "start_time": null,
     "status": "pending"
    },
    "tags": []
   },
   "outputs": [],
   "source": [
    "pls.boxplot('Price')"
   ]
  },
  {
   "cell_type": "markdown",
   "id": "c8341884",
   "metadata": {
    "papermill": {
     "duration": null,
     "end_time": null,
     "exception": null,
     "start_time": null,
     "status": "pending"
    },
    "tags": []
   },
   "source": [
    "> So, after ploting the boxplot for the Price column, we can see that there are some outliers present in the price column And from this **we can assume that, there are outliers beyond value 50**"
   ]
  },
  {
   "cell_type": "markdown",
   "id": "4b619fdb",
   "metadata": {
    "papermill": {
     "duration": null,
     "end_time": null,
     "exception": null,
     "start_time": null,
     "status": "pending"
    },
    "tags": []
   },
   "source": [
    "#### 1. Do you expect apps on the play store to cost $ 200 Check out these cases"
   ]
  },
  {
   "cell_type": "code",
   "execution_count": null,
   "id": "619db537",
   "metadata": {
    "execution": {
     "iopub.execute_input": "2023-10-06T11:10:39.424110Z",
     "iopub.status.busy": "2023-10-06T11:10:39.423742Z",
     "iopub.status.idle": "2023-10-06T11:10:39.447923Z",
     "shell.execute_reply": "2023-10-06T11:10:39.446520Z",
     "shell.execute_reply.started": "2023-10-06T11:10:39.424080Z"
    },
    "papermill": {
     "duration": null,
     "end_time": null,
     "exception": null,
     "start_time": null,
     "status": "pending"
    },
    "tags": []
   },
   "outputs": [],
   "source": [
    "pls[pls['Price']>200]"
   ]
  },
  {
   "cell_type": "code",
   "execution_count": null,
   "id": "8cf7fc3a",
   "metadata": {
    "execution": {
     "iopub.execute_input": "2023-10-06T11:10:46.272774Z",
     "iopub.status.busy": "2023-10-06T11:10:46.272384Z",
     "iopub.status.idle": "2023-10-06T11:10:46.280802Z",
     "shell.execute_reply": "2023-10-06T11:10:46.279615Z",
     "shell.execute_reply.started": "2023-10-06T11:10:46.272745Z"
    },
    "papermill": {
     "duration": null,
     "end_time": null,
     "exception": null,
     "start_time": null,
     "status": "pending"
    },
    "tags": []
   },
   "outputs": [],
   "source": [
    "sum(pls['Price']>200)"
   ]
  },
  {
   "cell_type": "code",
   "execution_count": null,
   "id": "2ab8324b",
   "metadata": {
    "execution": {
     "iopub.execute_input": "2023-10-06T11:10:51.406059Z",
     "iopub.status.busy": "2023-10-06T11:10:51.405736Z",
     "iopub.status.idle": "2023-10-06T11:10:51.415148Z",
     "shell.execute_reply": "2023-10-06T11:10:51.413745Z",
     "shell.execute_reply.started": "2023-10-06T11:10:51.406035Z"
    },
    "papermill": {
     "duration": null,
     "end_time": null,
     "exception": null,
     "start_time": null,
     "status": "pending"
    },
    "tags": []
   },
   "outputs": [],
   "source": [
    "pls[pls['Price']>200].index"
   ]
  },
  {
   "cell_type": "code",
   "execution_count": null,
   "id": "b8abbaf1",
   "metadata": {
    "execution": {
     "iopub.execute_input": "2023-10-06T11:11:02.046633Z",
     "iopub.status.busy": "2023-10-06T11:11:02.046290Z",
     "iopub.status.idle": "2023-10-06T11:11:02.055004Z",
     "shell.execute_reply": "2023-10-06T11:11:02.053926Z",
     "shell.execute_reply.started": "2023-10-06T11:11:02.046608Z"
    },
    "papermill": {
     "duration": null,
     "end_time": null,
     "exception": null,
     "start_time": null,
     "status": "pending"
    },
    "tags": []
   },
   "outputs": [],
   "source": [
    "pls.drop(index=pls[pls['Price']>200].index,inplace=True)"
   ]
  },
  {
   "cell_type": "code",
   "execution_count": null,
   "id": "401c8410",
   "metadata": {
    "execution": {
     "iopub.execute_input": "2023-10-06T11:11:07.722039Z",
     "iopub.status.busy": "2023-10-06T11:11:07.721635Z",
     "iopub.status.idle": "2023-10-06T11:11:07.734084Z",
     "shell.execute_reply": "2023-10-06T11:11:07.732826Z",
     "shell.execute_reply.started": "2023-10-06T11:11:07.722011Z"
    },
    "papermill": {
     "duration": null,
     "end_time": null,
     "exception": null,
     "start_time": null,
     "status": "pending"
    },
    "tags": []
   },
   "outputs": [],
   "source": [
    "pls[pls['Price']>200]"
   ]
  },
  {
   "cell_type": "markdown",
   "id": "aa949d4c",
   "metadata": {
    "papermill": {
     "duration": null,
     "end_time": null,
     "exception": null,
     "start_time": null,
     "status": "pending"
    },
    "tags": []
   },
   "source": [
    "> Here we have droped the records which are greater than 200 (cost more than 200)"
   ]
  },
  {
   "cell_type": "markdown",
   "id": "3ff68756",
   "metadata": {
    "papermill": {
     "duration": null,
     "end_time": null,
     "exception": null,
     "start_time": null,
     "status": "pending"
    },
    "tags": []
   },
   "source": [
    "#### 2. After dropping the some outliers, plot again to identify outliers"
   ]
  },
  {
   "cell_type": "code",
   "execution_count": null,
   "id": "b6c2d033",
   "metadata": {
    "execution": {
     "iopub.execute_input": "2023-10-06T11:11:13.190227Z",
     "iopub.status.busy": "2023-10-06T11:11:13.189837Z",
     "iopub.status.idle": "2023-10-06T11:11:13.431382Z",
     "shell.execute_reply": "2023-10-06T11:11:13.430178Z",
     "shell.execute_reply.started": "2023-10-06T11:11:13.190197Z"
    },
    "papermill": {
     "duration": null,
     "end_time": null,
     "exception": null,
     "start_time": null,
     "status": "pending"
    },
    "tags": []
   },
   "outputs": [],
   "source": [
    "pls.boxplot('Price')"
   ]
  },
  {
   "cell_type": "markdown",
   "id": "ea27905b",
   "metadata": {
    "papermill": {
     "duration": null,
     "end_time": null,
     "exception": null,
     "start_time": null,
     "status": "pending"
    },
    "tags": []
   },
   "source": [
    "> After ploting the boxplot for the price column, we got some outliers beyond 50 or we can also say that there are outliers beyond the average line so we can also drop that"
   ]
  },
  {
   "cell_type": "markdown",
   "id": "5292fb66",
   "metadata": {
    "papermill": {
     "duration": null,
     "end_time": null,
     "exception": null,
     "start_time": null,
     "status": "pending"
    },
    "tags": []
   },
   "source": [
    "#### 3.  Limit data to records with price < $30 "
   ]
  },
  {
   "cell_type": "code",
   "execution_count": null,
   "id": "5a313d39",
   "metadata": {
    "execution": {
     "iopub.execute_input": "2023-10-06T11:11:19.652279Z",
     "iopub.status.busy": "2023-10-06T11:11:19.651913Z",
     "iopub.status.idle": "2023-10-06T11:11:19.661579Z",
     "shell.execute_reply": "2023-10-06T11:11:19.659747Z",
     "shell.execute_reply.started": "2023-10-06T11:11:19.652250Z"
    },
    "papermill": {
     "duration": null,
     "end_time": null,
     "exception": null,
     "start_time": null,
     "status": "pending"
    },
    "tags": []
   },
   "outputs": [],
   "source": [
    "sum(pls['Price']<30)"
   ]
  },
  {
   "cell_type": "markdown",
   "id": "d2dfaf5b",
   "metadata": {
    "papermill": {
     "duration": null,
     "end_time": null,
     "exception": null,
     "start_time": null,
     "status": "pending"
    },
    "tags": []
   },
   "source": [
    "* ### Reviews column"
   ]
  },
  {
   "cell_type": "markdown",
   "id": "2b2ea536",
   "metadata": {
    "papermill": {
     "duration": null,
     "end_time": null,
     "exception": null,
     "start_time": null,
     "status": "pending"
    },
    "tags": []
   },
   "source": [
    "#### Make suitable plot Make suitable plot"
   ]
  },
  {
   "cell_type": "code",
   "execution_count": null,
   "id": "ff24694c",
   "metadata": {
    "execution": {
     "iopub.execute_input": "2023-10-06T11:11:25.128201Z",
     "iopub.status.busy": "2023-10-06T11:11:25.127853Z",
     "iopub.status.idle": "2023-10-06T11:11:25.368883Z",
     "shell.execute_reply": "2023-10-06T11:11:25.367704Z",
     "shell.execute_reply.started": "2023-10-06T11:11:25.128174Z"
    },
    "papermill": {
     "duration": null,
     "end_time": null,
     "exception": null,
     "start_time": null,
     "status": "pending"
    },
    "tags": []
   },
   "outputs": [],
   "source": [
    "hb=pls['Reviews']\n",
    "plt.hist(hb)\n",
    "plt.show()"
   ]
  },
  {
   "cell_type": "markdown",
   "id": "0cdec8cc",
   "metadata": {
    "papermill": {
     "duration": null,
     "end_time": null,
     "exception": null,
     "start_time": null,
     "status": "pending"
    },
    "tags": []
   },
   "source": [
    "> As we see, Most of apps reviews is within 1 million. So we limit the range of apps within 1 million reviews. It's give as better insights about data."
   ]
  },
  {
   "cell_type": "markdown",
   "id": "7513d661",
   "metadata": {
    "papermill": {
     "duration": null,
     "end_time": null,
     "exception": null,
     "start_time": null,
     "status": "pending"
    },
    "tags": []
   },
   "source": [
    "#### 1. Limit data to apps with < 1 Million reviews"
   ]
  },
  {
   "cell_type": "code",
   "execution_count": null,
   "id": "71d6734c",
   "metadata": {
    "execution": {
     "iopub.execute_input": "2023-10-06T11:11:31.717355Z",
     "iopub.status.busy": "2023-10-06T11:11:31.716993Z",
     "iopub.status.idle": "2023-10-06T11:11:31.734725Z",
     "shell.execute_reply": "2023-10-06T11:11:31.733871Z",
     "shell.execute_reply.started": "2023-10-06T11:11:31.717328Z"
    },
    "papermill": {
     "duration": null,
     "end_time": null,
     "exception": null,
     "start_time": null,
     "status": "pending"
    },
    "tags": []
   },
   "outputs": [],
   "source": [
    "pls.head(3)"
   ]
  },
  {
   "cell_type": "code",
   "execution_count": null,
   "id": "490d327e",
   "metadata": {
    "execution": {
     "iopub.execute_input": "2023-10-06T11:11:45.624424Z",
     "iopub.status.busy": "2023-10-06T11:11:45.624046Z",
     "iopub.status.idle": "2023-10-06T11:11:45.651084Z",
     "shell.execute_reply": "2023-10-06T11:11:45.649199Z",
     "shell.execute_reply.started": "2023-10-06T11:11:45.624394Z"
    },
    "papermill": {
     "duration": null,
     "end_time": null,
     "exception": null,
     "start_time": null,
     "status": "pending"
    },
    "tags": []
   },
   "outputs": [],
   "source": [
    "pls[pls['Reviews']<1000000]"
   ]
  },
  {
   "cell_type": "markdown",
   "id": "53714452",
   "metadata": {
    "papermill": {
     "duration": null,
     "end_time": null,
     "exception": null,
     "start_time": null,
     "status": "pending"
    },
    "tags": []
   },
   "source": [
    "* ### Installs Column "
   ]
  },
  {
   "cell_type": "code",
   "execution_count": null,
   "id": "09e7df54",
   "metadata": {
    "execution": {
     "iopub.execute_input": "2023-10-06T11:12:00.883994Z",
     "iopub.status.busy": "2023-10-06T11:12:00.883582Z",
     "iopub.status.idle": "2023-10-06T11:12:00.892937Z",
     "shell.execute_reply": "2023-10-06T11:12:00.891601Z",
     "shell.execute_reply.started": "2023-10-06T11:12:00.883965Z"
    },
    "papermill": {
     "duration": null,
     "end_time": null,
     "exception": null,
     "start_time": null,
     "status": "pending"
    },
    "tags": []
   },
   "outputs": [],
   "source": [
    "# getting the values of the Installs column with 95th percentile \n",
    "pls['Installs'].quantile(0.95)"
   ]
  },
  {
   "cell_type": "markdown",
   "id": "69c06602",
   "metadata": {
    "papermill": {
     "duration": null,
     "end_time": null,
     "exception": null,
     "start_time": null,
     "status": "pending"
    },
    "tags": []
   },
   "source": [
    "#### 1. Drop records having a value more than the 95th percentile."
   ]
  },
  {
   "cell_type": "code",
   "execution_count": null,
   "id": "0fa8f66a",
   "metadata": {
    "execution": {
     "iopub.execute_input": "2023-10-06T11:12:10.878935Z",
     "iopub.status.busy": "2023-10-06T11:12:10.878545Z",
     "iopub.status.idle": "2023-10-06T11:12:10.909498Z",
     "shell.execute_reply": "2023-10-06T11:12:10.908246Z",
     "shell.execute_reply.started": "2023-10-06T11:12:10.878909Z"
    },
    "papermill": {
     "duration": null,
     "end_time": null,
     "exception": null,
     "start_time": null,
     "status": "pending"
    },
    "tags": []
   },
   "outputs": [],
   "source": [
    "pls[pls['Installs']>pls['Installs'].quantile(0.95)]"
   ]
  },
  {
   "cell_type": "code",
   "execution_count": null,
   "id": "a2292230",
   "metadata": {
    "execution": {
     "iopub.execute_input": "2023-10-06T11:12:24.350771Z",
     "iopub.status.busy": "2023-10-06T11:12:24.350403Z",
     "iopub.status.idle": "2023-10-06T11:12:24.360992Z",
     "shell.execute_reply": "2023-10-06T11:12:24.359805Z",
     "shell.execute_reply.started": "2023-10-06T11:12:24.350743Z"
    },
    "papermill": {
     "duration": null,
     "end_time": null,
     "exception": null,
     "start_time": null,
     "status": "pending"
    },
    "tags": []
   },
   "outputs": [],
   "source": [
    "pls[pls['Installs']>pls['Installs'].quantile(0.95)].index"
   ]
  },
  {
   "cell_type": "code",
   "execution_count": null,
   "id": "4041fb56",
   "metadata": {
    "execution": {
     "iopub.execute_input": "2023-10-06T11:12:36.836168Z",
     "iopub.status.busy": "2023-10-06T11:12:36.835813Z",
     "iopub.status.idle": "2023-10-06T11:12:36.848135Z",
     "shell.execute_reply": "2023-10-06T11:12:36.846664Z",
     "shell.execute_reply.started": "2023-10-06T11:12:36.836143Z"
    },
    "papermill": {
     "duration": null,
     "end_time": null,
     "exception": null,
     "start_time": null,
     "status": "pending"
    },
    "tags": []
   },
   "outputs": [],
   "source": [
    "# here dropping all the values which are more than 95th percentile \n",
    "pls.drop(index=pls[pls['Installs']>pls['Installs'].quantile(0.95)].index,inplace=True)"
   ]
  },
  {
   "cell_type": "markdown",
   "id": "d387433d",
   "metadata": {
    "papermill": {
     "duration": null,
     "end_time": null,
     "exception": null,
     "start_time": null,
     "status": "pending"
    },
    "tags": []
   },
   "source": [
    "> Here, we have droped all the Installs Values which are more than 95th percentile"
   ]
  },
  {
   "cell_type": "markdown",
   "id": "110d5da7",
   "metadata": {
    "papermill": {
     "duration": null,
     "end_time": null,
     "exception": null,
     "start_time": null,
     "status": "pending"
    },
    "tags": []
   },
   "source": [
    "# Data analysis to answer business questions"
   ]
  },
  {
   "cell_type": "markdown",
   "id": "6051d861",
   "metadata": {
    "papermill": {
     "duration": null,
     "end_time": null,
     "exception": null,
     "start_time": null,
     "status": "pending"
    },
    "tags": []
   },
   "source": [
    "* ### What is the distribution of ratings like? More skewed towards higher/lower values? "
   ]
  },
  {
   "cell_type": "code",
   "execution_count": null,
   "id": "9cdaa89f",
   "metadata": {
    "execution": {
     "iopub.execute_input": "2023-10-06T11:12:47.516414Z",
     "iopub.status.busy": "2023-10-06T11:12:47.516062Z",
     "iopub.status.idle": "2023-10-06T11:12:47.895820Z",
     "shell.execute_reply": "2023-10-06T11:12:47.894734Z",
     "shell.execute_reply.started": "2023-10-06T11:12:47.516388Z"
    },
    "papermill": {
     "duration": null,
     "end_time": null,
     "exception": null,
     "start_time": null,
     "status": "pending"
    },
    "tags": []
   },
   "outputs": [],
   "source": [
    "sns.distplot(pls.Rating)\n",
    "#sns.displot(data=df, x=\"Rating\", kde=True)\n",
    "plt.show()"
   ]
  },
  {
   "cell_type": "code",
   "execution_count": null,
   "id": "eaefa03b",
   "metadata": {
    "execution": {
     "iopub.execute_input": "2023-10-06T11:12:54.488166Z",
     "iopub.status.busy": "2023-10-06T11:12:54.487775Z",
     "iopub.status.idle": "2023-10-06T11:12:54.496979Z",
     "shell.execute_reply": "2023-10-06T11:12:54.495603Z",
     "shell.execute_reply.started": "2023-10-06T11:12:54.488138Z"
    },
    "papermill": {
     "duration": null,
     "end_time": null,
     "exception": null,
     "start_time": null,
     "status": "pending"
    },
    "tags": []
   },
   "outputs": [],
   "source": [
    "# finding the skewed value for a Rating column\n",
    "pls['Rating'].skew()"
   ]
  },
  {
   "cell_type": "markdown",
   "id": "9722f9c6",
   "metadata": {
    "papermill": {
     "duration": null,
     "end_time": null,
     "exception": null,
     "start_time": null,
     "status": "pending"
    },
    "tags": []
   },
   "source": [
    "> So, from the above plot we can see that the **skewed value is at the left side which is negative**, so we can say that the given column or the given **plot is left skewed**."
   ]
  },
  {
   "cell_type": "markdown",
   "id": "4483f5e9",
   "metadata": {
    "papermill": {
     "duration": null,
     "end_time": null,
     "exception": null,
     "start_time": null,
     "status": "pending"
    },
    "tags": []
   },
   "source": [
    "* ### What is the implication of this on your analysis?"
   ]
  },
  {
   "cell_type": "markdown",
   "id": "4cc6ce60",
   "metadata": {
    "papermill": {
     "duration": null,
     "end_time": null,
     "exception": null,
     "start_time": null,
     "status": "pending"
    },
    "tags": []
   },
   "source": [
    "If we have skewness data and if it's at the right side then it is **right skewed data** and if the skewness is at the left side then it is **left skewed** data that is there are negative values. So, to overcome from this and to get the right output from the analysis we can remove this skewness and we can **convert it into the bell curve that is the mean is at the centre**."
   ]
  },
  {
   "cell_type": "markdown",
   "id": "f0be1519",
   "metadata": {
    "papermill": {
     "duration": null,
     "end_time": null,
     "exception": null,
     "start_time": null,
     "status": "pending"
    },
    "tags": []
   },
   "source": [
    "* ### Top Content Rating values"
   ]
  },
  {
   "cell_type": "code",
   "execution_count": null,
   "id": "e04f7993",
   "metadata": {
    "execution": {
     "iopub.execute_input": "2023-10-06T11:12:58.821329Z",
     "iopub.status.busy": "2023-10-06T11:12:58.820492Z",
     "iopub.status.idle": "2023-10-06T11:12:58.830782Z",
     "shell.execute_reply": "2023-10-06T11:12:58.829481Z",
     "shell.execute_reply.started": "2023-10-06T11:12:58.821292Z"
    },
    "papermill": {
     "duration": null,
     "end_time": null,
     "exception": null,
     "start_time": null,
     "status": "pending"
    },
    "tags": []
   },
   "outputs": [],
   "source": [
    "pls['Content_Rating'].value_counts()"
   ]
  },
  {
   "cell_type": "markdown",
   "id": "b8fbd855",
   "metadata": {
    "papermill": {
     "duration": null,
     "end_time": null,
     "exception": null,
     "start_time": null,
     "status": "pending"
    },
    "tags": []
   },
   "source": [
    "* ### Any values with very few records"
   ]
  },
  {
   "cell_type": "code",
   "execution_count": null,
   "id": "f304337c",
   "metadata": {
    "execution": {
     "iopub.execute_input": "2023-10-06T11:13:03.918852Z",
     "iopub.status.busy": "2023-10-06T11:13:03.918496Z",
     "iopub.status.idle": "2023-10-06T11:13:03.928617Z",
     "shell.execute_reply": "2023-10-06T11:13:03.927381Z",
     "shell.execute_reply.started": "2023-10-06T11:13:03.918826Z"
    },
    "papermill": {
     "duration": null,
     "end_time": null,
     "exception": null,
     "start_time": null,
     "status": "pending"
    },
    "tags": []
   },
   "outputs": [],
   "source": [
    "pls['Content_Rating'].value_counts()"
   ]
  },
  {
   "cell_type": "markdown",
   "id": "9aab25b8",
   "metadata": {
    "papermill": {
     "duration": null,
     "end_time": null,
     "exception": null,
     "start_time": null,
     "status": "pending"
    },
    "tags": []
   },
   "source": [
    "So, after analysis we found that an Adults only 18+ and Unrated have very few records that is 3 and 1 respectively"
   ]
  },
  {
   "cell_type": "markdown",
   "id": "70e468aa",
   "metadata": {
    "papermill": {
     "duration": null,
     "end_time": null,
     "exception": null,
     "start_time": null,
     "status": "pending"
    },
    "tags": []
   },
   "source": [
    "#### Drop those as they won’t help in the analysis"
   ]
  },
  {
   "cell_type": "code",
   "execution_count": null,
   "id": "b51368bb",
   "metadata": {
    "execution": {
     "iopub.execute_input": "2023-10-06T11:13:11.493978Z",
     "iopub.status.busy": "2023-10-06T11:13:11.493554Z",
     "iopub.status.idle": "2023-10-06T11:13:11.503275Z",
     "shell.execute_reply": "2023-10-06T11:13:11.501922Z",
     "shell.execute_reply.started": "2023-10-06T11:13:11.493948Z"
    },
    "papermill": {
     "duration": null,
     "end_time": null,
     "exception": null,
     "start_time": null,
     "status": "pending"
    },
    "tags": []
   },
   "outputs": [],
   "source": [
    "# finding the Unrated value in the contect rating column\n",
    "pls[pls['Content_Rating']=='Unrated'].index"
   ]
  },
  {
   "cell_type": "code",
   "execution_count": null,
   "id": "d14dfb69",
   "metadata": {
    "execution": {
     "iopub.execute_input": "2023-10-06T11:13:17.338423Z",
     "iopub.status.busy": "2023-10-06T11:13:17.338081Z",
     "iopub.status.idle": "2023-10-06T11:13:17.347873Z",
     "shell.execute_reply": "2023-10-06T11:13:17.346604Z",
     "shell.execute_reply.started": "2023-10-06T11:13:17.338396Z"
    },
    "papermill": {
     "duration": null,
     "end_time": null,
     "exception": null,
     "start_time": null,
     "status": "pending"
    },
    "tags": []
   },
   "outputs": [],
   "source": [
    "# finding the Adults only 18+ value in the contect rating column\n",
    "pls[pls['Content_Rating']=='Adults only 18+'].index"
   ]
  },
  {
   "cell_type": "code",
   "execution_count": null,
   "id": "d712d5f7",
   "metadata": {
    "execution": {
     "iopub.execute_input": "2023-10-06T11:13:28.421286Z",
     "iopub.status.busy": "2023-10-06T11:13:28.420526Z",
     "iopub.status.idle": "2023-10-06T11:13:28.431835Z",
     "shell.execute_reply": "2023-10-06T11:13:28.430787Z",
     "shell.execute_reply.started": "2023-10-06T11:13:28.421249Z"
    },
    "papermill": {
     "duration": null,
     "end_time": null,
     "exception": null,
     "start_time": null,
     "status": "pending"
    },
    "tags": []
   },
   "outputs": [],
   "source": [
    "# droping all the values in the given column with given records\n",
    "pls.drop(index=pls[pls['Content_Rating']=='Unrated'].index, inplace=True)\n"
   ]
  },
  {
   "cell_type": "code",
   "execution_count": null,
   "id": "dc12f6b3",
   "metadata": {
    "execution": {
     "iopub.execute_input": "2023-10-06T11:13:44.405403Z",
     "iopub.status.busy": "2023-10-06T11:13:44.405038Z",
     "iopub.status.idle": "2023-10-06T11:13:44.415193Z",
     "shell.execute_reply": "2023-10-06T11:13:44.414414Z",
     "shell.execute_reply.started": "2023-10-06T11:13:44.405376Z"
    },
    "papermill": {
     "duration": null,
     "end_time": null,
     "exception": null,
     "start_time": null,
     "status": "pending"
    },
    "tags": []
   },
   "outputs": [],
   "source": [
    "pls.drop(index=pls[pls['Content_Rating']=='Adults only 18+'].index,inplace=True)"
   ]
  },
  {
   "cell_type": "code",
   "execution_count": null,
   "id": "2d0292fd",
   "metadata": {
    "execution": {
     "iopub.execute_input": "2023-10-06T11:13:51.918721Z",
     "iopub.status.busy": "2023-10-06T11:13:51.917757Z",
     "iopub.status.idle": "2023-10-06T11:13:51.927592Z",
     "shell.execute_reply": "2023-10-06T11:13:51.926318Z",
     "shell.execute_reply.started": "2023-10-06T11:13:51.918687Z"
    },
    "papermill": {
     "duration": null,
     "end_time": null,
     "exception": null,
     "start_time": null,
     "status": "pending"
    },
    "tags": []
   },
   "outputs": [],
   "source": [
    "pls['Content_Rating'].value_counts()"
   ]
  },
  {
   "cell_type": "markdown",
   "id": "11454197",
   "metadata": {
    "papermill": {
     "duration": null,
     "end_time": null,
     "exception": null,
     "start_time": null,
     "status": "pending"
    },
    "tags": []
   },
   "source": [
    "So,the given data doesn't have any value in the Content Rating column with Unrated and Adults only 18+."
   ]
  },
  {
   "cell_type": "markdown",
   "id": "f16c615f",
   "metadata": {
    "papermill": {
     "duration": null,
     "end_time": null,
     "exception": null,
     "start_time": null,
     "status": "pending"
    },
    "tags": []
   },
   "source": [
    "## Effect of size on rating"
   ]
  },
  {
   "cell_type": "markdown",
   "id": "c296811b",
   "metadata": {
    "papermill": {
     "duration": null,
     "end_time": null,
     "exception": null,
     "start_time": null,
     "status": "pending"
    },
    "tags": []
   },
   "source": [
    "* ### Joinplot for analyzing the effect of size on rating"
   ]
  },
  {
   "cell_type": "code",
   "execution_count": null,
   "id": "b7f60e10",
   "metadata": {
    "execution": {
     "iopub.execute_input": "2023-10-06T11:15:17.564555Z",
     "iopub.status.busy": "2023-10-06T11:15:17.564166Z",
     "iopub.status.idle": "2023-10-06T11:15:17.592203Z",
     "shell.execute_reply": "2023-10-06T11:15:17.590832Z",
     "shell.execute_reply.started": "2023-10-06T11:15:17.564525Z"
    },
    "papermill": {
     "duration": null,
     "end_time": null,
     "exception": null,
     "start_time": null,
     "status": "pending"
    },
    "tags": []
   },
   "outputs": [],
   "source": [
    "pls"
   ]
  },
  {
   "cell_type": "code",
   "execution_count": null,
   "id": "2cca53cc",
   "metadata": {
    "execution": {
     "iopub.execute_input": "2023-10-06T11:16:16.891747Z",
     "iopub.status.busy": "2023-10-06T11:16:16.891341Z",
     "iopub.status.idle": "2023-10-06T11:16:18.071631Z",
     "shell.execute_reply": "2023-10-06T11:16:18.070498Z",
     "shell.execute_reply.started": "2023-10-06T11:16:16.891716Z"
    },
    "papermill": {
     "duration": null,
     "end_time": null,
     "exception": null,
     "start_time": null,
     "status": "pending"
    },
    "tags": []
   },
   "outputs": [],
   "source": [
    "sns.jointplot(x='Size',y='Rating',data=pls)\n",
    "plt.show()"
   ]
  },
  {
   "cell_type": "markdown",
   "id": "bde48729",
   "metadata": {
    "papermill": {
     "duration": null,
     "end_time": null,
     "exception": null,
     "start_time": null,
     "status": "pending"
    },
    "tags": []
   },
   "source": [
    "we can say that there is correlation between Size and Rating."
   ]
  },
  {
   "cell_type": "markdown",
   "id": "527c2b6d",
   "metadata": {
    "papermill": {
     "duration": null,
     "end_time": null,
     "exception": null,
     "start_time": null,
     "status": "pending"
    },
    "tags": []
   },
   "source": [
    "we can see that, on increase in the Rating, the size also increases and there is **positive correlation between Size and Rating**"
   ]
  },
  {
   "cell_type": "markdown",
   "id": "d8dfccce",
   "metadata": {
    "papermill": {
     "duration": null,
     "end_time": null,
     "exception": null,
     "start_time": null,
     "status": "pending"
    },
    "tags": []
   },
   "source": [
    "## Effect of price on rating"
   ]
  },
  {
   "cell_type": "markdown",
   "id": "f34f8d06",
   "metadata": {
    "papermill": {
     "duration": null,
     "end_time": null,
     "exception": null,
     "start_time": null,
     "status": "pending"
    },
    "tags": []
   },
   "source": [
    "* ### Joinplot for analyzing the effect of size on rating( with regression line)"
   ]
  },
  {
   "cell_type": "code",
   "execution_count": null,
   "id": "5c8c960f",
   "metadata": {
    "execution": {
     "iopub.execute_input": "2023-10-06T11:15:54.536388Z",
     "iopub.status.busy": "2023-10-06T11:15:54.536012Z",
     "iopub.status.idle": "2023-10-06T11:15:56.200211Z",
     "shell.execute_reply": "2023-10-06T11:15:56.199082Z",
     "shell.execute_reply.started": "2023-10-06T11:15:54.536362Z"
    },
    "papermill": {
     "duration": null,
     "end_time": null,
     "exception": null,
     "start_time": null,
     "status": "pending"
    },
    "tags": []
   },
   "outputs": [],
   "source": [
    "sns.jointplot(x='Price',y='Rating',data=pls, kind='reg')\n",
    "plt.show()"
   ]
  },
  {
   "cell_type": "markdown",
   "id": "0d8ff88e",
   "metadata": {
    "papermill": {
     "duration": null,
     "end_time": null,
     "exception": null,
     "start_time": null,
     "status": "pending"
    },
    "tags": []
   },
   "source": [
    "on increase in the Price, the Rating remains constant which is greater than 4"
   ]
  },
  {
   "cell_type": "markdown",
   "id": "2f69252d",
   "metadata": {
    "papermill": {
     "duration": null,
     "end_time": null,
     "exception": null,
     "start_time": null,
     "status": "pending"
    },
    "tags": []
   },
   "source": [
    "Here as on increase in price the rating remains constant which greater than 4. So we can say that, there is **weak positive correlation between Rating and Price**"
   ]
  },
  {
   "cell_type": "markdown",
   "id": "5e4ec9ae",
   "metadata": {
    "papermill": {
     "duration": null,
     "end_time": null,
     "exception": null,
     "start_time": null,
     "status": "pending"
    },
    "tags": []
   },
   "source": [
    " * ### Replot the data, Only records with price > 0"
   ]
  },
  {
   "cell_type": "code",
   "execution_count": null,
   "id": "9bf1c95d",
   "metadata": {
    "execution": {
     "iopub.execute_input": "2023-10-06T11:16:49.259776Z",
     "iopub.status.busy": "2023-10-06T11:16:49.259402Z",
     "iopub.status.idle": "2023-10-06T11:16:49.285886Z",
     "shell.execute_reply": "2023-10-06T11:16:49.284715Z",
     "shell.execute_reply.started": "2023-10-06T11:16:49.259748Z"
    },
    "papermill": {
     "duration": null,
     "end_time": null,
     "exception": null,
     "start_time": null,
     "status": "pending"
    },
    "tags": []
   },
   "outputs": [],
   "source": [
    "maxvalue=pls[pls['Price']>0]\n",
    "maxvalue"
   ]
  },
  {
   "cell_type": "code",
   "execution_count": null,
   "id": "260967e8",
   "metadata": {
    "execution": {
     "iopub.execute_input": "2023-10-06T11:17:26.827952Z",
     "iopub.status.busy": "2023-10-06T11:17:26.826874Z",
     "iopub.status.idle": "2023-10-06T11:17:28.816641Z",
     "shell.execute_reply": "2023-10-06T11:17:28.815453Z",
     "shell.execute_reply.started": "2023-10-06T11:17:26.827915Z"
    },
    "papermill": {
     "duration": null,
     "end_time": null,
     "exception": null,
     "start_time": null,
     "status": "pending"
    },
    "tags": []
   },
   "outputs": [],
   "source": [
    "sns.jointplot(x='Price',y='Rating',data=maxvalue, kind='reg')\n",
    "plt.show()"
   ]
  },
  {
   "cell_type": "markdown",
   "id": "29aad2a4",
   "metadata": {
    "papermill": {
     "duration": null,
     "end_time": null,
     "exception": null,
     "start_time": null,
     "status": "pending"
    },
    "tags": []
   },
   "source": [
    "The **pattern has changed** as we have given the condition to the data as Price>0 so we can say that there is **negative correlation between Price and Rating**"
   ]
  },
  {
   "cell_type": "markdown",
   "id": "27f533a7",
   "metadata": {
    "papermill": {
     "duration": null,
     "end_time": null,
     "exception": null,
     "start_time": null,
     "status": "pending"
    },
    "tags": []
   },
   "source": [
    "*Overall inference on the effect of price on the rating-*"
   ]
  },
  {
   "cell_type": "markdown",
   "id": "60393bdc",
   "metadata": {
    "papermill": {
     "duration": null,
     "end_time": null,
     "exception": null,
     "start_time": null,
     "status": "pending"
    },
    "tags": []
   },
   "source": [
    "So, from this we can say that, on **increase in the price, it doesn't have any effect on the higher rating and the rating is almost constant** which is 4."
   ]
  },
  {
   "cell_type": "markdown",
   "id": "428c4347",
   "metadata": {
    "papermill": {
     "duration": null,
     "end_time": null,
     "exception": null,
     "start_time": null,
     "status": "pending"
    },
    "tags": []
   },
   "source": [
    "##  Plot all the numeric interactions together – "
   ]
  },
  {
   "cell_type": "markdown",
   "id": "fac13a12",
   "metadata": {
    "papermill": {
     "duration": null,
     "end_time": null,
     "exception": null,
     "start_time": null,
     "status": "pending"
    },
    "tags": []
   },
   "source": [
    "* ### Using pairplort with the columns - 'Reviews', 'Size', 'Rating', 'Price "
   ]
  },
  {
   "cell_type": "code",
   "execution_count": null,
   "id": "e5c51cff",
   "metadata": {
    "execution": {
     "iopub.execute_input": "2023-10-06T11:17:48.961062Z",
     "iopub.status.busy": "2023-10-06T11:17:48.960706Z",
     "iopub.status.idle": "2023-10-06T11:18:03.016490Z",
     "shell.execute_reply": "2023-10-06T11:18:03.015346Z",
     "shell.execute_reply.started": "2023-10-06T11:17:48.961037Z"
    },
    "papermill": {
     "duration": null,
     "end_time": null,
     "exception": null,
     "start_time": null,
     "status": "pending"
    },
    "tags": []
   },
   "outputs": [],
   "source": [
    "sns.pairplot(pls,vars=['Reviews','Size','Rating','Price'])\n",
    "plt.show()"
   ]
  },
  {
   "cell_type": "markdown",
   "id": "6cf1a7ea",
   "metadata": {
    "papermill": {
     "duration": null,
     "end_time": null,
     "exception": null,
     "start_time": null,
     "status": "pending"
    },
    "tags": []
   },
   "source": [
    "## Rating vs. content rating "
   ]
  },
  {
   "cell_type": "markdown",
   "id": "7f72f0b6",
   "metadata": {
    "papermill": {
     "duration": null,
     "end_time": null,
     "exception": null,
     "start_time": null,
     "status": "pending"
    },
    "tags": []
   },
   "source": [
    "* ### Bar plot displaying the rating for each content rating  "
   ]
  },
  {
   "cell_type": "code",
   "execution_count": null,
   "id": "b7d1d600",
   "metadata": {
    "execution": {
     "iopub.execute_input": "2023-10-06T11:18:30.105187Z",
     "iopub.status.busy": "2023-10-06T11:18:30.104786Z",
     "iopub.status.idle": "2023-10-06T11:18:30.331114Z",
     "shell.execute_reply": "2023-10-06T11:18:30.329986Z",
     "shell.execute_reply.started": "2023-10-06T11:18:30.105155Z"
    },
    "papermill": {
     "duration": null,
     "end_time": null,
     "exception": null,
     "start_time": null,
     "status": "pending"
    },
    "tags": []
   },
   "outputs": [],
   "source": [
    "pls.groupby(['Content_Rating'])['Rating'].count().plot.bar(color='green')\n",
    "plt.show()"
   ]
  },
  {
   "cell_type": "markdown",
   "id": "5a4b1f42",
   "metadata": {
    "papermill": {
     "duration": null,
     "end_time": null,
     "exception": null,
     "start_time": null,
     "status": "pending"
    },
    "tags": []
   },
   "source": [
    "We will use Median because of outlier in the Rating. And, Median is the best measure of central tendency to overcome the outlier"
   ]
  },
  {
   "cell_type": "code",
   "execution_count": null,
   "id": "795e7f24",
   "metadata": {
    "execution": {
     "iopub.execute_input": "2023-10-06T11:18:38.162244Z",
     "iopub.status.busy": "2023-10-06T11:18:38.161114Z",
     "iopub.status.idle": "2023-10-06T11:18:38.379289Z",
     "shell.execute_reply": "2023-10-06T11:18:38.378001Z",
     "shell.execute_reply.started": "2023-10-06T11:18:38.162208Z"
    },
    "papermill": {
     "duration": null,
     "end_time": null,
     "exception": null,
     "start_time": null,
     "status": "pending"
    },
    "tags": []
   },
   "outputs": [],
   "source": [
    "pls.groupby(['Content_Rating'])['Rating'].median().plot.bar(color='blue')\n",
    "plt.show()"
   ]
  },
  {
   "cell_type": "markdown",
   "id": "ea1683ab",
   "metadata": {
    "papermill": {
     "duration": null,
     "end_time": null,
     "exception": null,
     "start_time": null,
     "status": "pending"
    },
    "tags": []
   },
   "source": [
    "## Content rating vs. size vs. rating – 3 variables at a time "
   ]
  },
  {
   "cell_type": "markdown",
   "id": "5a83c08a",
   "metadata": {
    "papermill": {
     "duration": null,
     "end_time": null,
     "exception": null,
     "start_time": null,
     "status": "pending"
    },
    "tags": []
   },
   "source": [
    "* ### Using 5 buckets (20% records in each) based on Size "
   ]
  },
  {
   "cell_type": "code",
   "execution_count": null,
   "id": "668c337e",
   "metadata": {
    "execution": {
     "iopub.execute_input": "2023-10-06T11:19:06.484028Z",
     "iopub.status.busy": "2023-10-06T11:19:06.483643Z",
     "iopub.status.idle": "2023-10-06T11:19:06.513463Z",
     "shell.execute_reply": "2023-10-06T11:19:06.512257Z",
     "shell.execute_reply.started": "2023-10-06T11:19:06.483999Z"
    },
    "papermill": {
     "duration": null,
     "end_time": null,
     "exception": null,
     "start_time": null,
     "status": "pending"
    },
    "tags": []
   },
   "outputs": [],
   "source": [
    "#creating bins (buckets) of the given dataset and then we're giving labels to it. Basically creating the 5 gourps of the dataset \n",
    "bins=[0,20000,40000,60000,80000,100000]\n",
    "labels=['0-20k','20k-40k','40k-60k','60k-80k','80k-100k']\n",
    "pls['Bucket']=pd.cut(pls['Size'],bins,labels=labels)\n",
    "pd.pivot_table(pls,index='Bucket',values='Rating',columns='Content_Rating')"
   ]
  },
  {
   "cell_type": "markdown",
   "id": "76f608db",
   "metadata": {
    "papermill": {
     "duration": null,
     "end_time": null,
     "exception": null,
     "start_time": null,
     "status": "pending"
    },
    "tags": []
   },
   "source": [
    "* ### By Content Rating vs. Size buckets, get the rating (20th percentile) for each combination "
   ]
  },
  {
   "cell_type": "code",
   "execution_count": null,
   "id": "35d543f0",
   "metadata": {
    "execution": {
     "iopub.execute_input": "2023-10-06T11:21:02.011837Z",
     "iopub.status.busy": "2023-10-06T11:21:02.011379Z",
     "iopub.status.idle": "2023-10-06T11:21:02.041814Z",
     "shell.execute_reply": "2023-10-06T11:21:02.040611Z",
     "shell.execute_reply.started": "2023-10-06T11:21:02.011808Z"
    },
    "papermill": {
     "duration": null,
     "end_time": null,
     "exception": null,
     "start_time": null,
     "status": "pending"
    },
    "tags": []
   },
   "outputs": [],
   "source": [
    "quant=pd.pivot_table(pls, values='Rating', index='Bucket', columns='Content_Rating', aggfunc=lambda x:np.quantile(x,0.2))\n",
    "quant"
   ]
  },
  {
   "cell_type": "code",
   "execution_count": null,
   "id": "ea7b3b49",
   "metadata": {
    "execution": {
     "iopub.execute_input": "2023-10-06T11:19:24.047541Z",
     "iopub.status.busy": "2023-10-06T11:19:24.047149Z",
     "iopub.status.idle": "2023-10-06T11:19:24.056175Z",
     "shell.execute_reply": "2023-10-06T11:19:24.055013Z",
     "shell.execute_reply.started": "2023-10-06T11:19:24.047511Z"
    },
    "papermill": {
     "duration": null,
     "end_time": null,
     "exception": null,
     "start_time": null,
     "status": "pending"
    },
    "tags": []
   },
   "outputs": [],
   "source": [
    "pls['Size'].max()"
   ]
  },
  {
   "cell_type": "markdown",
   "id": "db633365",
   "metadata": {
    "papermill": {
     "duration": null,
     "end_time": null,
     "exception": null,
     "start_time": null,
     "status": "pending"
    },
    "tags": []
   },
   "source": [
    "* ## Make a heatmap"
   ]
  },
  {
   "cell_type": "code",
   "execution_count": null,
   "id": "c703b350",
   "metadata": {
    "execution": {
     "iopub.execute_input": "2023-10-06T11:21:35.267058Z",
     "iopub.status.busy": "2023-10-06T11:21:35.266639Z",
     "iopub.status.idle": "2023-10-06T11:21:35.623074Z",
     "shell.execute_reply": "2023-10-06T11:21:35.621904Z",
     "shell.execute_reply.started": "2023-10-06T11:21:35.267029Z"
    },
    "papermill": {
     "duration": null,
     "end_time": null,
     "exception": null,
     "start_time": null,
     "status": "pending"
    },
    "tags": []
   },
   "outputs": [],
   "source": [
    "f,ax = plt.subplots(figsize=(7, 7))\n",
    "sns.heatmap(quant, annot=True, linewidths=.5)\n",
    "plt.show()"
   ]
  },
  {
   "cell_type": "markdown",
   "id": "f6ff95c8",
   "metadata": {
    "papermill": {
     "duration": null,
     "end_time": null,
     "exception": null,
     "start_time": null,
     "status": "pending"
    },
    "tags": []
   },
   "source": [
    "## Greens color map"
   ]
  },
  {
   "cell_type": "code",
   "execution_count": null,
   "id": "88d189e9",
   "metadata": {
    "execution": {
     "iopub.execute_input": "2023-10-06T11:23:20.564939Z",
     "iopub.status.busy": "2023-10-06T11:23:20.564087Z",
     "iopub.status.idle": "2023-10-06T11:23:20.916023Z",
     "shell.execute_reply": "2023-10-06T11:23:20.914936Z",
     "shell.execute_reply.started": "2023-10-06T11:23:20.564904Z"
    },
    "papermill": {
     "duration": null,
     "end_time": null,
     "exception": null,
     "start_time": null,
     "status": "pending"
    },
    "tags": []
   },
   "outputs": [],
   "source": [
    "f,ax = plt.subplots(figsize=(7, 7))\n",
    "sns.heatmap(quant, annot=True, cmap='Greens', linewidths=.5, fmt='.1f')\n",
    "plt.show()"
   ]
  },
  {
   "cell_type": "markdown",
   "id": "d255dfa1",
   "metadata": {
    "papermill": {
     "duration": null,
     "end_time": null,
     "exception": null,
     "start_time": null,
     "status": "pending"
    },
    "tags": []
   },
   "source": [
    "# Summery of data insights"
   ]
  },
  {
   "cell_type": "markdown",
   "id": "6a5d9480",
   "metadata": {
    "papermill": {
     "duration": null,
     "end_time": null,
     "exception": null,
     "start_time": null,
     "status": "pending"
    },
    "tags": []
   },
   "source": [
    "From this analysis and plot, we can see that the **lighter apps are not preffered in all the categories**. Apps with size 40k-60k and 80k-100k have more ratings and also we can say that the size 60k-80k also has the high ratings. So, in short we can say that, **whatever the heavier apps are there, they are preferred more in all the caregories**"
   ]
  }
 ],
 "metadata": {
  "kernelspec": {
   "display_name": "Python 3",
   "language": "python",
   "name": "python3"
  },
  "language_info": {
   "codemirror_mode": {
    "name": "ipython",
    "version": 3
   },
   "file_extension": ".py",
   "mimetype": "text/x-python",
   "name": "python",
   "nbconvert_exporter": "python",
   "pygments_lexer": "ipython3",
   "version": "3.10.12"
  },
  "papermill": {
   "default_parameters": {},
   "duration": 6.900892,
   "end_time": "2023-10-06T11:26:15.541299",
   "environment_variables": {},
   "exception": true,
   "input_path": "__notebook__.ipynb",
   "output_path": "__notebook__.ipynb",
   "parameters": {},
   "start_time": "2023-10-06T11:26:08.640407",
   "version": "2.4.0"
  }
 },
 "nbformat": 4,
 "nbformat_minor": 5
}
